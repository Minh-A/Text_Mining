{
  "nbformat": 4,
  "nbformat_minor": 0,
  "metadata": {
    "kernelspec": {
      "name": "python3",
      "display_name": "Python 3"
    },
    "colab": {
      "name": "로그 분석.ipynb",
      "provenance": [],
      "collapsed_sections": [],
      "include_colab_link": true
    },
    "language_info": {
      "name": "python"
    },
    "accelerator": "GPU"
  },
  "cells": [
    {
      "cell_type": "markdown",
      "metadata": {
        "id": "view-in-github",
        "colab_type": "text"
      },
      "source": [
        "<a href=\"https://colab.research.google.com/github/Minh-A/Text_Mining/blob/main/log%20analysis.ipynb\" target=\"_parent\"><img src=\"https://colab.research.google.com/assets/colab-badge.svg\" alt=\"Open In Colab\"/></a>"
      ]
    },
    {
      "cell_type": "markdown",
      "metadata": {
        "id": "MPigCr6XXUR-"
      },
      "source": [
        "# **1. 라이브러리 불러오기**"
      ]
    },
    {
      "cell_type": "code",
      "metadata": {
        "colab": {
          "base_uri": "https://localhost:8080/"
        },
        "id": "sosm81tnaMky",
        "outputId": "3f315e18-5a0f-4689-92e9-64b6296cf384"
      },
      "source": [
        "from google.colab import drive\n",
        "drive.mount('/content/drive')"
      ],
      "execution_count": null,
      "outputs": [
        {
          "output_type": "stream",
          "text": [
            "Mounted at /content/drive\n"
          ],
          "name": "stdout"
        }
      ]
    },
    {
      "cell_type": "code",
      "metadata": {
        "id": "2o3_aJxtXUSH"
      },
      "source": [
        "import numpy as np\n",
        "import pandas as pd\n",
        "import gc\n",
        "import matplotlib.pyplot as plt\n",
        "\n",
        "from lightgbm import LGBMClassifier\n",
        "from sklearn.model_selection import train_test_split\n",
        "from tqdm import tqdm"
      ],
      "execution_count": null,
      "outputs": []
    },
    {
      "cell_type": "markdown",
      "metadata": {
        "id": "vMTOwHNKXUSI"
      },
      "source": [
        "# **2. 데이터 불러오기 및 간단 EDA**"
      ]
    },
    {
      "cell_type": "code",
      "metadata": {
        "id": "RSuJJW33XUSJ"
      },
      "source": [
        "train=pd.read_csv('/content/drive/MyDrive/Colab Notebooks/로그분석/data/train.csv')\n",
        "vali = pd.read_csv('/content/drive/MyDrive/Colab Notebooks/로그분석/data/validation_sample.csv')\n",
        "test=pd.read_csv('/content/drive/MyDrive/Colab Notebooks/로그분석/data/test.csv')\n",
        "submission=pd.read_csv('/content/drive/MyDrive/Colab Notebooks/로그분석/data/sample_submission.csv')"
      ],
      "execution_count": null,
      "outputs": []
    },
    {
      "cell_type": "code",
      "metadata": {
        "colab": {
          "base_uri": "https://localhost:8080/"
        },
        "id": "HC5gugJ7XUSJ",
        "outputId": "edb76d1c-5af1-4209-cf5c-91fe43a67a05"
      },
      "source": [
        "print(train.shape, test.shape, vali.shape, submission.shape)"
      ],
      "execution_count": null,
      "outputs": [
        {
          "output_type": "stream",
          "text": [
            "(472972, 3) (1418916, 2) (3, 1) (1418916, 2)\n"
          ],
          "name": "stdout"
        }
      ]
    },
    {
      "cell_type": "code",
      "metadata": {
        "colab": {
          "base_uri": "https://localhost:8080/",
          "height": 204
        },
        "id": "dTBVaIaAXUSK",
        "outputId": "334e3031-b884-44cb-b88e-1c35254bc854"
      },
      "source": [
        "train.head()"
      ],
      "execution_count": null,
      "outputs": [
        {
          "output_type": "execute_result",
          "data": {
            "text/html": [
              "<div>\n",
              "<style scoped>\n",
              "    .dataframe tbody tr th:only-of-type {\n",
              "        vertical-align: middle;\n",
              "    }\n",
              "\n",
              "    .dataframe tbody tr th {\n",
              "        vertical-align: top;\n",
              "    }\n",
              "\n",
              "    .dataframe thead th {\n",
              "        text-align: right;\n",
              "    }\n",
              "</style>\n",
              "<table border=\"1\" class=\"dataframe\">\n",
              "  <thead>\n",
              "    <tr style=\"text-align: right;\">\n",
              "      <th></th>\n",
              "      <th>id</th>\n",
              "      <th>level</th>\n",
              "      <th>full_log</th>\n",
              "    </tr>\n",
              "  </thead>\n",
              "  <tbody>\n",
              "    <tr>\n",
              "      <th>0</th>\n",
              "      <td>0</td>\n",
              "      <td>0</td>\n",
              "      <td>Sep 24 10:02:22 localhost kibana: {\"type\":\"err...</td>\n",
              "    </tr>\n",
              "    <tr>\n",
              "      <th>1</th>\n",
              "      <td>1</td>\n",
              "      <td>0</td>\n",
              "      <td>Feb  8 16:21:00 localhost logstash: [2021-02-0...</td>\n",
              "    </tr>\n",
              "    <tr>\n",
              "      <th>2</th>\n",
              "      <td>2</td>\n",
              "      <td>0</td>\n",
              "      <td>Jan 13 01:50:40 localhost kibana: {\"type\":\"err...</td>\n",
              "    </tr>\n",
              "    <tr>\n",
              "      <th>3</th>\n",
              "      <td>3</td>\n",
              "      <td>0</td>\n",
              "      <td>Jan  4 10:18:31 localhost kibana: {\"type\":\"err...</td>\n",
              "    </tr>\n",
              "    <tr>\n",
              "      <th>4</th>\n",
              "      <td>4</td>\n",
              "      <td>1</td>\n",
              "      <td>type=SYSCALL msg=audit(1603094402.016:52981): ...</td>\n",
              "    </tr>\n",
              "  </tbody>\n",
              "</table>\n",
              "</div>"
            ],
            "text/plain": [
              "   id  level                                           full_log\n",
              "0   0      0  Sep 24 10:02:22 localhost kibana: {\"type\":\"err...\n",
              "1   1      0  Feb  8 16:21:00 localhost logstash: [2021-02-0...\n",
              "2   2      0  Jan 13 01:50:40 localhost kibana: {\"type\":\"err...\n",
              "3   3      0  Jan  4 10:18:31 localhost kibana: {\"type\":\"err...\n",
              "4   4      1  type=SYSCALL msg=audit(1603094402.016:52981): ..."
            ]
          },
          "metadata": {
            "tags": []
          },
          "execution_count": 7
        }
      ]
    },
    {
      "cell_type": "code",
      "metadata": {
        "colab": {
          "base_uri": "https://localhost:8080/",
          "height": 204
        },
        "id": "9SVxGwpRXUSL",
        "outputId": "a2a37fdd-0c1d-4472-e65f-6c6a1dc19a2f"
      },
      "source": [
        "#test는 level값이 없습니다\n",
        "test.head()"
      ],
      "execution_count": null,
      "outputs": [
        {
          "output_type": "execute_result",
          "data": {
            "text/html": [
              "<div>\n",
              "<style scoped>\n",
              "    .dataframe tbody tr th:only-of-type {\n",
              "        vertical-align: middle;\n",
              "    }\n",
              "\n",
              "    .dataframe tbody tr th {\n",
              "        vertical-align: top;\n",
              "    }\n",
              "\n",
              "    .dataframe thead th {\n",
              "        text-align: right;\n",
              "    }\n",
              "</style>\n",
              "<table border=\"1\" class=\"dataframe\">\n",
              "  <thead>\n",
              "    <tr style=\"text-align: right;\">\n",
              "      <th></th>\n",
              "      <th>id</th>\n",
              "      <th>full_log</th>\n",
              "    </tr>\n",
              "  </thead>\n",
              "  <tbody>\n",
              "    <tr>\n",
              "      <th>0</th>\n",
              "      <td>1000000</td>\n",
              "      <td>Feb  8 15:47:26 localhost kibana: {\"type\":\"err...</td>\n",
              "    </tr>\n",
              "    <tr>\n",
              "      <th>1</th>\n",
              "      <td>1000001</td>\n",
              "      <td>Sep 24 03:46:39 localhost kibana: {\"type\":\"err...</td>\n",
              "    </tr>\n",
              "    <tr>\n",
              "      <th>2</th>\n",
              "      <td>1000002</td>\n",
              "      <td>type=SYSCALL msg=audit(1611888200.428:210563):...</td>\n",
              "    </tr>\n",
              "    <tr>\n",
              "      <th>3</th>\n",
              "      <td>1000003</td>\n",
              "      <td>Jan 18 11:24:06 localhost kibana: {\"type\":\"err...</td>\n",
              "    </tr>\n",
              "    <tr>\n",
              "      <th>4</th>\n",
              "      <td>1000004</td>\n",
              "      <td>type=SYSCALL msg=audit(1603081202.050:46851): ...</td>\n",
              "    </tr>\n",
              "  </tbody>\n",
              "</table>\n",
              "</div>"
            ],
            "text/plain": [
              "        id                                           full_log\n",
              "0  1000000  Feb  8 15:47:26 localhost kibana: {\"type\":\"err...\n",
              "1  1000001  Sep 24 03:46:39 localhost kibana: {\"type\":\"err...\n",
              "2  1000002  type=SYSCALL msg=audit(1611888200.428:210563):...\n",
              "3  1000003  Jan 18 11:24:06 localhost kibana: {\"type\":\"err...\n",
              "4  1000004  type=SYSCALL msg=audit(1603081202.050:46851): ..."
            ]
          },
          "metadata": {
            "tags": []
          },
          "execution_count": 8
        }
      ]
    },
    {
      "cell_type": "code",
      "metadata": {
        "id": "eIyQ2YZE2u00"
      },
      "source": [
        "train_df = train\n",
        "test_df = test"
      ],
      "execution_count": null,
      "outputs": []
    },
    {
      "cell_type": "code",
      "metadata": {
        "id": "v3xcN6pL2uvz"
      },
      "source": [
        "first_strings = pd.merge(train_df.loc[train_df.level!=0].full_log.apply(lambda x: x.split(' ')[0]).value_counts().rename('lv!=0'),\n",
        "                         train_df.loc[train_df.level==0].full_log.apply(lambda x: x.split(' ')[0]).value_counts().rename('lv==0'),\n",
        "                         how='outer',left_index=True,right_index=True).fillna(0).astype(int)\n",
        "\n",
        "first_strings = first_strings.sort_values('lv==0',ascending=False)"
      ],
      "execution_count": null,
      "outputs": []
    },
    {
      "cell_type": "code",
      "metadata": {
        "colab": {
          "base_uri": "https://localhost:8080/",
          "height": 824
        },
        "id": "uqpptMCe2uq-",
        "outputId": "6d559ff1-6de0-4ab2-a998-147d15f8a8d9"
      },
      "source": [
        "first_strings"
      ],
      "execution_count": null,
      "outputs": [
        {
          "output_type": "execute_result",
          "data": {
            "text/html": [
              "<div>\n",
              "<style scoped>\n",
              "    .dataframe tbody tr th:only-of-type {\n",
              "        vertical-align: middle;\n",
              "    }\n",
              "\n",
              "    .dataframe tbody tr th {\n",
              "        vertical-align: top;\n",
              "    }\n",
              "\n",
              "    .dataframe thead th {\n",
              "        text-align: right;\n",
              "    }\n",
              "</style>\n",
              "<table border=\"1\" class=\"dataframe\">\n",
              "  <thead>\n",
              "    <tr style=\"text-align: right;\">\n",
              "      <th></th>\n",
              "      <th>lv!=0</th>\n",
              "      <th>lv==0</th>\n",
              "    </tr>\n",
              "  </thead>\n",
              "  <tbody>\n",
              "    <tr>\n",
              "      <th>Jan</th>\n",
              "      <td>6451</td>\n",
              "      <td>200574</td>\n",
              "    </tr>\n",
              "    <tr>\n",
              "      <th>Feb</th>\n",
              "      <td>2430</td>\n",
              "      <td>33114</td>\n",
              "    </tr>\n",
              "    <tr>\n",
              "      <th>Dec</th>\n",
              "      <td>1512</td>\n",
              "      <td>24370</td>\n",
              "    </tr>\n",
              "    <tr>\n",
              "      <th>Sep</th>\n",
              "      <td>801</td>\n",
              "      <td>22392</td>\n",
              "    </tr>\n",
              "    <tr>\n",
              "      <th>Oct</th>\n",
              "      <td>2910</td>\n",
              "      <td>20973</td>\n",
              "    </tr>\n",
              "    <tr>\n",
              "      <th>Nov</th>\n",
              "      <td>2895</td>\n",
              "      <td>18980</td>\n",
              "    </tr>\n",
              "    <tr>\n",
              "      <th>Mar</th>\n",
              "      <td>806</td>\n",
              "      <td>11368</td>\n",
              "    </tr>\n",
              "    <tr>\n",
              "      <th>level</th>\n",
              "      <td>812</td>\n",
              "      <td>1519</td>\n",
              "    </tr>\n",
              "    <tr>\n",
              "      <th>error:</th>\n",
              "      <td>0</td>\n",
              "      <td>459</td>\n",
              "    </tr>\n",
              "    <tr>\n",
              "      <th>E:</th>\n",
              "      <td>0</td>\n",
              "      <td>297</td>\n",
              "    </tr>\n",
              "    <tr>\n",
              "      <th>--MARK--:</th>\n",
              "      <td>0</td>\n",
              "      <td>12</td>\n",
              "    </tr>\n",
              "    <tr>\n",
              "      <th>juniper</th>\n",
              "      <td>1</td>\n",
              "      <td>4</td>\n",
              "    </tr>\n",
              "    <tr>\n",
              "      <th>OpenSCAP</th>\n",
              "      <td>0</td>\n",
              "      <td>3</td>\n",
              "    </tr>\n",
              "    <tr>\n",
              "      <th>ossec:</th>\n",
              "      <td>1318</td>\n",
              "      <td>0</td>\n",
              "    </tr>\n",
              "    <tr>\n",
              "      <th>oscap:</th>\n",
              "      <td>366</td>\n",
              "      <td>0</td>\n",
              "    </tr>\n",
              "    <tr>\n",
              "      <th>type=SYSCALL</th>\n",
              "      <td>116496</td>\n",
              "      <td>0</td>\n",
              "    </tr>\n",
              "    <tr>\n",
              "      <th>type=AVC</th>\n",
              "      <td>369</td>\n",
              "      <td>0</td>\n",
              "    </tr>\n",
              "    <tr>\n",
              "      <th></th>\n",
              "      <td>31</td>\n",
              "      <td>0</td>\n",
              "    </tr>\n",
              "    <tr>\n",
              "      <th>Windows</th>\n",
              "      <td>13</td>\n",
              "      <td>0</td>\n",
              "    </tr>\n",
              "    <tr>\n",
              "      <th>Trojaned</th>\n",
              "      <td>15</td>\n",
              "      <td>0</td>\n",
              "    </tr>\n",
              "    <tr>\n",
              "      <th>The</th>\n",
              "      <td>11</td>\n",
              "      <td>0</td>\n",
              "    </tr>\n",
              "    <tr>\n",
              "      <th>System</th>\n",
              "      <td>820</td>\n",
              "      <td>0</td>\n",
              "    </tr>\n",
              "    <tr>\n",
              "      <th>NTFS</th>\n",
              "      <td>25</td>\n",
              "      <td>0</td>\n",
              "    </tr>\n",
              "    <tr>\n",
              "      <th>File</th>\n",
              "      <td>822</td>\n",
              "      <td>0</td>\n",
              "    </tr>\n",
              "    <tr>\n",
              "      <th>type=USER_AVC</th>\n",
              "      <td>3</td>\n",
              "      <td>0</td>\n",
              "    </tr>\n",
              "  </tbody>\n",
              "</table>\n",
              "</div>"
            ],
            "text/plain": [
              "                lv!=0   lv==0\n",
              "Jan              6451  200574\n",
              "Feb              2430   33114\n",
              "Dec              1512   24370\n",
              "Sep               801   22392\n",
              "Oct              2910   20973\n",
              "Nov              2895   18980\n",
              "Mar               806   11368\n",
              "level             812    1519\n",
              "error:              0     459\n",
              "E:                  0     297\n",
              "--MARK--:           0      12\n",
              "juniper             1       4\n",
              "OpenSCAP            0       3\n",
              "ossec:           1318       0\n",
              "oscap:            366       0\n",
              "type=SYSCALL   116496       0\n",
              "type=AVC          369       0\n",
              "                   31       0\n",
              "Windows            13       0\n",
              "Trojaned           15       0\n",
              "The                11       0\n",
              "System            820       0\n",
              "NTFS               25       0\n",
              "File              822       0\n",
              "type=USER_AVC       3       0"
            ]
          },
          "metadata": {
            "tags": []
          },
          "execution_count": 52
        }
      ]
    },
    {
      "cell_type": "code",
      "metadata": {
        "colab": {
          "base_uri": "https://localhost:8080/"
        },
        "id": "sWP6MyY-bCEK",
        "outputId": "4ca7d81b-960d-49a8-f114-8cbd1564b884"
      },
      "source": [
        "train['full_log'].value_counts()"
      ],
      "execution_count": null,
      "outputs": [
        {
          "output_type": "execute_result",
          "data": {
            "text/plain": [
              "error: cannot open Packages database in                                                                                                                                                                                                                                                                                                                                                                                                                                                                                                                                                                                                                                                                                                                                                                                                                                                                                                                                                               138\n",
              "error: db5 error(-30973) from dbenv->failchk: BDB0087 DB_RUNRECOVERY: Fatal error, run database recovery                                                                                                                                                                                                                                                                                                                                                                                                                                                                                                                                                                                                                                                                                                                                                                                                                                                                                              132\n",
              "E: probe_rpminfo: RPM: db5 error(-30973) from dbenv->failchk: BDB0087 DB_RUNRECOVERY: Fatal error, run database recovery                                                                                                                                                                                                                                                                                                                                                                                                                                                                                                                                                                                                                                                                                                                                                                                                                                                                              124\n",
              "error: rpmdb: BDB0113 Thread/process 26357/140408208971520 failed: BDB1507 Thread died in Berkeley DB library                                                                                                                                                                                                                                                                                                                                                                                                                                                                                                                                                                                                                                                                                                                                                                                                                                                                                         123\n",
              "E: probe_rpminfo: RPM: rpmdb: BDB0113 Thread/process 26357/140408208971520 failed: BDB1507 Thread died in Berkeley DB library                                                                                                                                                                                                                                                                                                                                                                                                                                                                                                                                                                                                                                                                                                                                                                                                                                                                         105\n",
              "                                                                                                                                                                                                                                                                                                                                                                                                                                                                                                                                                                                                                                                                                                                                                                                                                                                                                                                                                                                                     ... \n",
              "Feb 23 03:45:00 localhost logstash: [2021-02-23T03:45:00,162][WARN ][logstash.inputs.jdbc     ] Exception when executing JDBC query {:exception=>#<Sequel::DatabaseError: Java::JavaSql::SQLException: Value '0000-00-00 00:00:00' can not be represented as java.sql.Timestamp>}                                                                                                                                                                                                                                                                                                                                                                                                                                                                                                                                                                                                                                                                                                                       1\n",
              "type=SYSCALL msg=audit(1603116089.256:78980): arch=c000003e syscall=2 success=yes exit=10 a0=7fa584948552 a1=80000 a2=1b6 a3=24 items=1 ppid=1 pid=30216 auid=0 uid=0 gid=985 euid=0 suid=0 fsuid=0 egid=985 sgid=985 fsgid=985 tty=(none) ses=1 comm=\"ossec-syscheckd\" exe=\"/var/esild/bin/ossec-syscheckd\" subj=unconfined_u:unconfined_r:unconfined_t:s0-s0:c0.c1023 key=\"audit-wazuh-r\" type=CWD msg=audit(1603116089.256:78980):  cwd=\"/\" type=PATH msg=audit(1603116089.256:78980): item=0 name=\"/etc/passwd\" inode=68678693 dev=fd:00 mode=0100644 ouid=0 ogid=0 rdev=00:00 obj=system_u:object_r:passwd_file_t:s0 objtype=NORMAL type=PROCTITLE msg=audit(1603116089.256:78980): proctitle=\"/var/esild/bin/ossec-syscheckd\"                                                                                                                                                                                                                                                                     1\n",
              "Jan  4 12:56:48 localhost logstash: [2021-01-04T12:56:48,182][WARN ][logstash.outputs.elasticsearch] Attempted to resurrect connection to dead ES instance, but got an error. {:url=>\"http://localhost:9200/\", :error_type=>LogStash::Outputs::ElasticSearch::HttpClient::Pool::HostUnreachableError, :error=>\"Elasticsearch Unreachable: [http://localhost:9200/][Manticore::SocketException] 연결이 거부됨 (Connection refused)\"}                                                                                                                                                                                                                                                                                                                                                                                                                                                                                                                                                                           1\n",
              "type=SYSCALL msg=audit(1603159344.489:132353): arch=c000003e syscall=59 success=yes exit=0 a0=1175e60 a1=1175f70 a2=1173f50 a3=7ffe981699a0 items=2 ppid=21592 pid=21593 auid=0 uid=0 gid=985 euid=0 suid=0 fsuid=0 egid=985 sgid=985 fsgid=985 tty=(none) ses=1 comm=\"ps\" exe=\"/usr/bin/ps\" subj=unconfined_u:unconfined_r:unconfined_t:s0-s0:c0.c1023 key=\"audit-wazuh-x\" type=EXECVE msg=audit(1603159344.489:132353): argc=3 a0=\"/bin/ps\" a1=\"-p\" a2=\"15988\" type=CWD msg=audit(1603159344.489:132353):  cwd=\"/\" type=PATH msg=audit(1603159344.489:132353): item=0 name=\"/bin/ps\" inode=317956 dev=fd:00 mode=0100755 ouid=0 ogid=0 rdev=00:00 obj=system_u:object_r:bin_t:s0 objtype=NORMAL type=PATH msg=audit(1603159344.489:132353): item=1 name=\"/lib64/ld-linux-x86-64.so.2\" inode=33774210 dev=fd:00 mode=0100755 ouid=0 ogid=0 rdev=00:00 obj=system_u:object_r:ld_so_t:s0 objtype=NORMAL type=PROCTITLE msg=audit(1603159344.489:132353): proctitle=2F62696E2F7073002D70003135393838      1\n",
              "Feb  2 17:08:06 localhost kibana: {\"type\":\"log\",\"@timestamp\":\"2021-02-02T08:08:06Z\",\"tags\":[\"warning\",\"maps\"],\"pid\":13242,\"message\":\"Error scheduling telemetry task, received Request Timeout after 30000ms\"}                                                                                                                                                                                                                                                                                                                                                                                                                                                                                                                                                                                                                                                                                                                                                                                          1\n",
              "Name: full_log, Length: 404136, dtype: int64"
            ]
          },
          "metadata": {
            "tags": []
          },
          "execution_count": 10
        }
      ]
    },
    {
      "cell_type": "code",
      "metadata": {
        "colab": {
          "base_uri": "https://localhost:8080/"
        },
        "id": "2Tp3emygbWkK",
        "outputId": "51ae7b13-b6ff-4d6a-a2a8-eefc1ec3e1ae"
      },
      "source": [
        "train['level'].value_counts()"
      ],
      "execution_count": null,
      "outputs": [
        {
          "output_type": "execute_result",
          "data": {
            "text/plain": [
              "0    334065\n",
              "1    132517\n",
              "3      4141\n",
              "5      2219\n",
              "2        12\n",
              "4        10\n",
              "6         8\n",
              "Name: level, dtype: int64"
            ]
          },
          "metadata": {
            "tags": []
          },
          "execution_count": 11
        }
      ]
    },
    {
      "cell_type": "code",
      "metadata": {
        "id": "q_VX0Tw_o2mI"
      },
      "source": [
        "# text 전처리로 문자만 남겨 보았다.\n",
        "train['full_log'] = train['full_log'].str.replace(pat=r'[^A-Za-z]', repl=r'', regex=True)\n",
        "test['full_log'] = test['full_log'].str.replace(pat=r'[^A-Za-z]', repl=r'', regex=True)"
      ],
      "execution_count": null,
      "outputs": []
    },
    {
      "cell_type": "code",
      "metadata": {
        "id": "fGmA8MCYc52Q"
      },
      "source": [
        "#full_log에서 숫자는 마스킹 처리\n",
        "train['full_log']=train['full_log'].str.replace(r'[0-9]', ' ')\n",
        "test['full_log']=test['full_log'].str.replace(r'[0-9]', ' ')"
      ],
      "execution_count": null,
      "outputs": []
    },
    {
      "cell_type": "code",
      "metadata": {
        "id": "CVBxpzhlDJav"
      },
      "source": [
        "train['full_log'].value_counts()"
      ],
      "execution_count": null,
      "outputs": []
    },
    {
      "cell_type": "code",
      "metadata": {
        "colab": {
          "base_uri": "https://localhost:8080/"
        },
        "id": "6fYbiZjedo9b",
        "outputId": "417dd82f-518e-4177-dcc8-c3a4afb97a5e"
      },
      "source": [
        "train['full_log'].value_counts()"
      ],
      "execution_count": null,
      "outputs": [
        {
          "output_type": "execute_result",
          "data": {
            "text/plain": [
              "Jan      :  :   localhost kibana: {\"type\":\"error\",\"@timestamp\":\"    -  -  T  :  :  Z\",\"tags\":[\"warning\",\"stats-collection\"],\"pid\":    ,\"level\":\"error\",\"error\":{\"message\":\"No Living connections\",\"name\":\"Error\",\"stack\":\"Error: No Living connections\\n    at sendReqWithConnection (/usr/share/kibana/node_modules/elasticsearch/src/lib/transport.js:   :  )\\n    at next (/usr/share/kibana/node_modules/elasticsearch/src/lib/connection_pool.js:   : )\\n    at process._tickCallback (internal/process/next_tick.js:  :  )\"},\"message\":\"No Living connections\"}                                                                                                                                                                                                                                                                                                                                                                                                                                                                                                                                                                                                                                                  71650\n",
              "Jan      :  :   localhost logstash: [    -  -  T  :  :  ,   ][WARN ][logstash.outputs.elasticsearch] Attempted to resurrect connection to dead ES instance, but got an error. {:url=>\"http://localhost:    /\", :error_type=>LogStash::Outputs::ElasticSearch::HttpClient::Pool::HostUnreachableError, :error=>\"Elasticsearch Unreachable: [http://localhost:    /][Manticore::SocketException] 연결이 거부됨 (Connection refused)\"}                                                                                                                                                                                                                                                                                                                                                                                                                                                                                                                                                                                                                                                                                                                                                                                          30094\n",
              "Jan      :  :   localhost kibana: {\"type\":\"log\",\"@timestamp\":\"    -  -  T  :  :  Z\",\"tags\":[\"error\",\"task_manager\"],\"pid\":    ,\"message\":\"Failed to poll for work: Error: No Living connections\"}                                                                                                                                                                                                                                                                                                                                                                                                                                                                                                                                                                                                                                                                                                                                                                                                                                                                                                                                                                                                                      29858\n",
              "Sep      :  :   localhost kibana: {\"type\":\"error\",\"@timestamp\":\"    -  -  T  :  :  Z\",\"tags\":[\"warning\",\"stats-collection\"],\"pid\":    ,\"level\":\"error\",\"error\":{\"message\":\"No Living connections\",\"name\":\"Error\",\"stack\":\"Error: No Living connections\\n    at sendReqWithConnection (/usr/share/kibana/node_modules/elasticsearch/src/lib/transport.js:   :  )\\n    at next (/usr/share/kibana/node_modules/elasticsearch/src/lib/connection_pool.js:   : )\\n    at process._tickCallback (internal/process/next_tick.js:  :  )\"},\"message\":\"No Living connections\"}                                                                                                                                                                                                                                                                                                                                                                                                                                                                                                                                                                                                                                                  11549\n",
              "Jan      :  :   localhost logstash: [    -  -  T  :  :  ,   ][ERROR][logstash.outputs.elasticsearch] Attempted to send a bulk request to elasticsearch, but no there are no living connections in the connection pool. Perhaps Elasticsearch is unreachable or down? {:error_message=>\"No Available connections\", :class=>\"LogStash::Outputs::ElasticSearch::HttpClient::Pool::NoConnectionAvailableError\", :will_retry_in_seconds=>  }                                                                                                                                                                                                                                                                                                                                                                                                                                                                                                                                                                                                                                                                                                                                                                                10991\n",
              "                                                                                                                                                                                                                                                                                                                                                                                                                                                                                                                                                                                                                                                                                                                                                                                                                                                                                                                                                                                                                                                                                                                                                                                                                       ...  \n",
              "type=SYSCALL msg=audit(          .   :      ): arch=c      e syscall=  success=yes exit=  a = f ad     a  a =      a =  a = f ad   a f  items=  ppid=       pid=       auid=           uid=  gid=    euid=  suid=  fsuid=  egid=    sgid=    fsgid=    tty=(none) ses=           comm=\"ps\" exe=\"/usr/bin/ps\" subj=system_u:system_r:unconfined_service_t:s  key=\"audit-wazuh-r\" type=CWD msg=audit(          .   :      ):  cwd=\"/\" type=PATH msg=audit(          .   :      ): item=  name=\"/etc/ld.so.cache\" inode=         dev=fd:   mode=        ouid=  ogid=  rdev=  :   obj=unconfined_u:object_r:ld_so_cache_t:s  objtype=NORMAL cap_fp=                 cap_fi=                 cap_fe=  cap_fver=  type=PROCTITLE msg=audit(          .   :      ): proctitle= F     E F       D                                                                                                                                                                                                                                                                                                                                                                                                                                  1\n",
              "Mar      :  :   localhost kernel: ACPI Error: Method execution failed [\\_SB_.PCI .SAT .PRT ._S W] (Node ffff c   a cb a ), AE_AML_NO_OPERAND (        /uteval-   )                                                                                                                                                                                                                                                                                                                                                                                                                                                                                                                                                                                                                                                                                                                                                                                                                                                                                                                                                                                                                                                         1\n",
              "type=SYSCALL msg=audit(          .   :      ): arch=c      e syscall=   success=yes exit=  a =b  e   a =b  ee  a =b  d   a = ffd a b ae  items=  ppid=      pid=      auid=  uid=  gid=  euid=  suid=  fsuid=  egid=  sgid=  fsgid=  tty=(none) ses=    comm=\"logger\" exe=\"/usr/bin/logger\" subj=system_u:system_r:system_cronjob_t:s -s :c .c     key=\"audit-wazuh-x\" type=EXECVE msg=audit(          .   :      ): argc=  a =\"logger\" a =\"-i\" a =\"-p\" a =\"cron.notice\" a =\"-t\" a =\"run-parts(/etc/cron.hourly)\" a =     E                 E       F E type=CWD msg=audit(          .   :      ):  cwd=\"/root\" type=PATH msg=audit(          .   :      ): item=  name=\"/bin/logger\" inode=       dev=fd:   mode=        ouid=  ogid=  rdev=  :   obj=system_u:object_r:bin_t:s  objtype=NORMAL type=PATH msg=audit(          .   :      ): item=  name=\"/lib  /ld-linux-x  -  .so. \" inode=         dev=fd:   mode=        ouid=  ogid=  rdev=  :   obj=system_u:object_r:ld_so_t:s  objtype=NORMAL type=PROCTITLE msg=audit(          .   :      ): proctitle= C F           D     D         F E E E F           D         E D             F       F     F E E   F     C           E                 E       F E        1\n",
              "type=SYSCALL msg=audit(          .   :      ): arch=c      e syscall=  success=yes exit=  a = f   f  e    a =      a = b  a =   items=  ppid=      pid=       auid=           uid=  gid=    euid=  suid=  fsuid=  egid=    sgid=    fsgid=    tty=(none) ses=           comm=\"sh\" exe=\"/usr/bin/bash\" subj=system_u:system_r:unconfined_service_t:s  key=\"audit-wazuh-r\" type=CWD msg=audit(          .   :      ):  cwd=\"/\" type=PATH msg=audit(          .   :      ): item=  name=\"/etc/passwd\" inode=         dev=fd:   mode=        ouid=  ogid=  rdev=  :   obj=system_u:object_r:passwd_file_t:s  objtype=NORMAL cap_fp=                 cap_fi=                 cap_fe=  cap_fver=  type=PROCTITLE msg=audit(          .   :      ): proctitle=       D     F     E F       D               E   F       F E   C C     E                                                                                                                                                                                                                                                                                                                                                                                            1\n",
              "type=SYSCALL msg=audit(          .   :      ): arch=c      e syscall=  success=yes exit=  a = f  c b   c  a =      a = b  a =   items=  ppid=      pid=     auid=           uid=  gid=    euid=  suid=  fsuid=  egid=    sgid=    fsgid=    tty=(none) ses=           comm=\"sh\" exe=\"/usr/bin/bash\" subj=system_u:system_r:unconfined_service_t:s  key=\"audit-wazuh-r\" type=CWD msg=audit(          .   :      ):  cwd=\"/\" type=PATH msg=audit(          .   :      ): item=  name=\"/etc/nsswitch.conf\" inode=         dev=fd:   mode=        ouid=  ogid=  rdev=  :   obj=system_u:object_r:etc_t:s  objtype=NORMAL cap_fp=                 cap_fi=                 cap_fe=  cap_fver=  type=PROCTITLE msg=audit(          .   :      ): proctitle=       D     F     E F       D               E   F       F E   C C     E                                                                                                                                                                                                                                                                                                                                                                                               1\n",
              "Name: full_log, Length: 70947, dtype: int64"
            ]
          },
          "metadata": {
            "tags": []
          },
          "execution_count": 43
        }
      ]
    },
    {
      "cell_type": "code",
      "metadata": {
        "id": "CSev_RLFc5zv"
      },
      "source": [
        "#train['full_log'] => train_text로 list\n",
        "#train['level']=> train_level로 array\n",
        "train_text=list(train['full_log'])\n",
        "train_level=np.array(train['level'])"
      ],
      "execution_count": null,
      "outputs": []
    },
    {
      "cell_type": "code",
      "metadata": {
        "id": "e77BxE3ssozF"
      },
      "source": [
        "text_train, text_val, label_train, label_val = train_test_split(train['full_log'], train['level'], test_size=0.2, random_state=42, stratify=train['level'])"
      ],
      "execution_count": null,
      "outputs": []
    },
    {
      "cell_type": "code",
      "metadata": {
        "id": "msac5fg_dlSu"
      },
      "source": [
        "import tensorflow as tf\n",
        "\n",
        "tokenizer = tf.keras.preprocessing.text.Tokenizer()\n",
        "tokenizer.fit_on_texts(text_train)\n",
        "top_k = len(tokenizer.word_index)\n",
        "\n",
        "x_train = tokenizer.texts_to_sequences(text_train)\n",
        "x_val = tokenizer.texts_to_sequences(text_val)\n",
        "\n",
        "max_length=100\n",
        "\n",
        "x_train_vector = tf.keras.preprocessing.sequence.pad_sequences(\n",
        "    x_train, maxlen=max_length, padding='post'\n",
        ")\n",
        "\n",
        "x_val_vector = tf.keras.preprocessing.sequence.pad_sequences(\n",
        "    x_val, maxlen=max_length, padding='post'\n",
        ")"
      ],
      "execution_count": null,
      "outputs": []
    },
    {
      "cell_type": "code",
      "metadata": {
        "colab": {
          "base_uri": "https://localhost:8080/"
        },
        "id": "85GVBen0dlSu",
        "outputId": "0e848a98-9131-4997-8d2f-19848937739c"
      },
      "source": [
        "x_train_vector.shape"
      ],
      "execution_count": null,
      "outputs": [
        {
          "output_type": "execute_result",
          "data": {
            "text/plain": [
              "(378377, 100)"
            ]
          },
          "metadata": {
            "tags": []
          },
          "execution_count": 88
        }
      ]
    },
    {
      "cell_type": "code",
      "metadata": {
        "colab": {
          "base_uri": "https://localhost:8080/"
        },
        "id": "d7FLUahcdlSv",
        "outputId": "bb21dea3-5a3b-411d-ad08-aaea74ca86b2"
      },
      "source": [
        "x_val_vector.shape"
      ],
      "execution_count": null,
      "outputs": [
        {
          "output_type": "execute_result",
          "data": {
            "text/plain": [
              "(94595, 100)"
            ]
          },
          "metadata": {
            "tags": []
          },
          "execution_count": 89
        }
      ]
    },
    {
      "cell_type": "code",
      "metadata": {
        "colab": {
          "base_uri": "https://localhost:8080/"
        },
        "id": "qH0-xqZGdlSv",
        "outputId": "aa5e095d-95c7-4a4c-e787-9c9c3282a5ab"
      },
      "source": [
        "x_train_vector"
      ],
      "execution_count": null,
      "outputs": [
        {
          "output_type": "execute_result",
          "data": {
            "text/plain": [
              "array([[162,   8,  10, ...,   0,   0,   0],\n",
              "       [ 42,   8,  24, ...,   0,   0,   0],\n",
              "       [ 42,   8,  24, ...,   0,   0,   0],\n",
              "       ...,\n",
              "       [ 42,   8,  10, ...,   0,   0,   0],\n",
              "       [ 42,   8,  10, ...,   0,   0,   0],\n",
              "       [ 42,   8,  10, ...,   0,   0,   0]], dtype=int32)"
            ]
          },
          "metadata": {
            "tags": []
          },
          "execution_count": 90
        }
      ]
    },
    {
      "cell_type": "code",
      "metadata": {
        "id": "6ZmZUCvGs11d"
      },
      "source": [
        ""
      ],
      "execution_count": null,
      "outputs": []
    },
    {
      "cell_type": "code",
      "metadata": {
        "id": "DTfjVhnCdg7Z"
      },
      "source": [
        ""
      ],
      "execution_count": null,
      "outputs": []
    },
    {
      "cell_type": "code",
      "metadata": {
        "id": "rsJUYsS0dg5H"
      },
      "source": [
        ""
      ],
      "execution_count": null,
      "outputs": []
    },
    {
      "cell_type": "code",
      "metadata": {
        "id": "MgEChUJyddUh"
      },
      "source": [
        ""
      ],
      "execution_count": null,
      "outputs": []
    },
    {
      "cell_type": "code",
      "metadata": {
        "id": "7AcNBibYbbL2"
      },
      "source": [
        ""
      ],
      "execution_count": null,
      "outputs": []
    },
    {
      "cell_type": "code",
      "metadata": {
        "id": "SQbtOumEbbFO"
      },
      "source": [
        ""
      ],
      "execution_count": null,
      "outputs": []
    },
    {
      "cell_type": "code",
      "metadata": {
        "id": "GHdtNqR32uo1"
      },
      "source": [
        ""
      ],
      "execution_count": null,
      "outputs": []
    },
    {
      "cell_type": "code",
      "metadata": {
        "id": "LQABbjvx7Mys"
      },
      "source": [
        "# # 검증 값\n",
        "from sklearn import metrics\n",
        "\n",
        "# def macro_f1(answer_df, submission_df):\n",
        "\n",
        "#     submission_df = submission_df[submission_df['id'].isin(answer_df['id'])]\n",
        "\n",
        "#     submission_df.index = range(submission_df.shape[0])\n",
        "\n",
        "    \n",
        "\n",
        "#     true = answer_df['level']\n",
        "\n",
        "#     pred = submission_df['level']\n",
        "\n",
        "    \n",
        "\n",
        "#     score = metrics.f1_score(y_true=true, y_pred=pred, average='macro')\n",
        "\n",
        "    \n",
        "\n",
        "#     return score"
      ],
      "execution_count": null,
      "outputs": []
    },
    {
      "cell_type": "code",
      "metadata": {
        "id": "77RJBfnD2uma"
      },
      "source": [
        "def macro_f1(answer_df, submission_df):    \n",
        "    true = answer_df\n",
        "    pred = submission_df\n",
        "\n",
        "    score = metrics.f1_score(y_true=true, y_pred=pred, average='macro')\n",
        "    return score    "
      ],
      "execution_count": null,
      "outputs": []
    },
    {
      "cell_type": "code",
      "metadata": {
        "id": "Q0DY3RCi2ukC"
      },
      "source": [
        ""
      ],
      "execution_count": null,
      "outputs": []
    },
    {
      "cell_type": "code",
      "metadata": {
        "colab": {
          "base_uri": "https://localhost:8080/"
        },
        "id": "VbuZXwUd70--",
        "outputId": "0a2a6ec3-bb63-4f44-aa78-9d5c157ec316"
      },
      "source": [
        "pred"
      ],
      "execution_count": null,
      "outputs": [
        {
          "output_type": "execute_result",
          "data": {
            "text/plain": [
              "array([0, 0, 0, ..., 0, 1, 0])"
            ]
          },
          "metadata": {
            "tags": []
          },
          "execution_count": 41
        }
      ]
    },
    {
      "cell_type": "code",
      "metadata": {
        "id": "9mi9PMrO2uh2",
        "colab": {
          "base_uri": "https://localhost:8080/"
        },
        "outputId": "66949748-30bf-4fdd-d55c-92350ccbf329"
      },
      "source": [
        "label_val"
      ],
      "execution_count": null,
      "outputs": [
        {
          "output_type": "execute_result",
          "data": {
            "text/plain": [
              "91835     0\n",
              "160352    0\n",
              "194710    0\n",
              "118233    0\n",
              "207022    0\n",
              "         ..\n",
              "365308    0\n",
              "372398    0\n",
              "267991    0\n",
              "360722    1\n",
              "292629    0\n",
              "Name: level, Length: 94595, dtype: int64"
            ]
          },
          "metadata": {
            "tags": []
          },
          "execution_count": 42
        }
      ]
    },
    {
      "cell_type": "code",
      "metadata": {
        "colab": {
          "base_uri": "https://localhost:8080/"
        },
        "id": "iNQ9PJkU8Dgp",
        "outputId": "8bcd2366-b278-42c8-8041-5999f29669fe"
      },
      "source": [
        "macro_f1(label_val,pred)"
      ],
      "execution_count": null,
      "outputs": [
        {
          "output_type": "execute_result",
          "data": {
            "text/plain": [
              "0.8235142934209632"
            ]
          },
          "metadata": {
            "tags": []
          },
          "execution_count": 45
        }
      ]
    },
    {
      "cell_type": "code",
      "metadata": {
        "id": "3irQaCmv8qJu"
      },
      "source": [
        ""
      ],
      "execution_count": null,
      "outputs": []
    },
    {
      "cell_type": "code",
      "metadata": {
        "id": "Z8kexXET8qFV"
      },
      "source": [
        ""
      ],
      "execution_count": null,
      "outputs": []
    },
    {
      "cell_type": "markdown",
      "metadata": {
        "id": "eSXpXPvDXUSM"
      },
      "source": [
        "# **3. 데이터 전처리**"
      ]
    },
    {
      "cell_type": "code",
      "metadata": {
        "id": "pMrF6haoXUSM"
      },
      "source": [
        "#full_log에서 숫자는 마스킹 처리\n",
        "train['full_log']=train['full_log'].str.replace(r'[0-9]', '<num>')\n",
        "test['full_log']=test['full_log'].str.replace(r'[0-9]', '<num>')"
      ],
      "execution_count": null,
      "outputs": []
    },
    {
      "cell_type": "code",
      "metadata": {
        "id": "ljIUk5LUXUSM"
      },
      "source": [
        "#train['full_log'] => train_text로 list\n",
        "#train['level']=> train_level로 array\n",
        "train_text=list(train['full_log'])\n",
        "train_level=np.array(train['level'])"
      ],
      "execution_count": null,
      "outputs": []
    },
    {
      "cell_type": "code",
      "metadata": {
        "id": "dK-lY76heAAD"
      },
      "source": [
        "import tensorflow as tf\n",
        "from sklearn.model_selection import train_test_split\n",
        "from tqdm import tqdm"
      ],
      "execution_count": null,
      "outputs": []
    },
    {
      "cell_type": "code",
      "metadata": {
        "id": "3S8AiD83eIcJ"
      },
      "source": [
        "text_train, text_val, label_train, label_val = train_test_split(train['full_log'], train['level'], test_size=0.2, random_state=42)"
      ],
      "execution_count": null,
      "outputs": []
    },
    {
      "cell_type": "code",
      "metadata": {
        "id": "MU1mmc4weLnf"
      },
      "source": [
        "tokenizer = tf.keras.preprocessing.text.Tokenizer()\n",
        "tokenizer.fit_on_texts(text_train)\n",
        "top_k = len(tokenizer.word_index)\n",
        "\n",
        "x_train = tokenizer.texts_to_sequences(text_train)\n",
        "x_val = tokenizer.texts_to_sequences(text_val)\n",
        "\n",
        "max_length=100\n",
        "\n",
        "x_train_vector = tf.keras.preprocessing.sequence.pad_sequences(\n",
        "    x_train, maxlen=max_length, padding='post'\n",
        ")\n",
        "\n",
        "x_val_vector = tf.keras.preprocessing.sequence.pad_sequences(\n",
        "    x_val, maxlen=max_length, padding='post'\n",
        ")"
      ],
      "execution_count": null,
      "outputs": []
    },
    {
      "cell_type": "code",
      "metadata": {
        "colab": {
          "base_uri": "https://localhost:8080/"
        },
        "id": "gtlEtV81em4r",
        "outputId": "15da66c5-c786-4c2b-8125-b9fbcda77d26"
      },
      "source": [
        "x_train_vector.shape"
      ],
      "execution_count": null,
      "outputs": [
        {
          "output_type": "execute_result",
          "data": {
            "text/plain": [
              "(378377, 100)"
            ]
          },
          "metadata": {
            "tags": []
          },
          "execution_count": 22
        }
      ]
    },
    {
      "cell_type": "code",
      "metadata": {
        "colab": {
          "base_uri": "https://localhost:8080/"
        },
        "id": "oUCBOMGdese4",
        "outputId": "474de509-16cc-42f4-af35-47e1c6cedf65"
      },
      "source": [
        "x_val_vector.shape"
      ],
      "execution_count": null,
      "outputs": [
        {
          "output_type": "execute_result",
          "data": {
            "text/plain": [
              "(94595, 100)"
            ]
          },
          "metadata": {
            "tags": []
          },
          "execution_count": 23
        }
      ]
    },
    {
      "cell_type": "code",
      "metadata": {
        "colab": {
          "base_uri": "https://localhost:8080/"
        },
        "id": "aUcrJXTRQzt5",
        "outputId": "1a866db2-db86-44ad-fc72-f7025b6a9c10"
      },
      "source": [
        "x_train_vector"
      ],
      "execution_count": null,
      "outputs": [
        {
          "output_type": "execute_result",
          "data": {
            "text/plain": [
              "array([[161,   1,   1, ...,   0,   0,   0],\n",
              "       [  3,  53,   7, ...,   1, 332, 327],\n",
              "       [ 43,   1,   1, ...,   0,   0,   0],\n",
              "       ...,\n",
              "       [  1,   1,   1, ...,   1,   1,   1],\n",
              "       [  1,  56,   1, ...,  41,  51,  52],\n",
              "       [ 43,   1,   1, ...,   0,   0,   0]], dtype=int32)"
            ]
          },
          "metadata": {
            "tags": []
          },
          "execution_count": 24
        }
      ]
    },
    {
      "cell_type": "code",
      "metadata": {
        "id": "h4cXYD2bQzLH"
      },
      "source": [
        ""
      ],
      "execution_count": null,
      "outputs": []
    },
    {
      "cell_type": "code",
      "metadata": {
        "id": "97vVel9keySC"
      },
      "source": [
        "#랜덤포레스트로 모델링\n",
        "from sklearn.ensemble import RandomForestClassifier\n",
        "\n",
        "forest=RandomForestClassifier(n_estimators=1000, random_state=42)\n",
        "\n",
        "forest.fit(x_train_vector, label_train)"
      ],
      "execution_count": null,
      "outputs": []
    },
    {
      "cell_type": "markdown",
      "metadata": {
        "id": "Wgf3WcnWvOmq"
      },
      "source": [
        "* https://injo.tistory.com/44"
      ]
    },
    {
      "cell_type": "code",
      "metadata": {
        "colab": {
          "base_uri": "https://localhost:8080/"
        },
        "id": "IdVyo1IMWAXl",
        "outputId": "5118545e-c47f-432d-c29d-6c2814d9d315"
      },
      "source": [
        "# LGBM 모델\n",
        "lgb = LGBMClassifier(n_estimators=400, random_state=42)\n",
        "evals = [(x_val_vector, label_val)]\n",
        "lgb.fit(x_train_vector, label_train, early_stopping_rounds=50, eval_metric='error', eval_set=evals, verbose=True)"
      ],
      "execution_count": null,
      "outputs": [
        {
          "output_type": "stream",
          "text": [
            "[1]\tvalid_0's multi_logloss: 0.52187\tvalid_0's multi_error: 0.281865\n",
            "Training until validation scores don't improve for 50 rounds.\n",
            "[2]\tvalid_0's multi_logloss: 0.446025\tvalid_0's multi_error: 0.281791\n",
            "[3]\tvalid_0's multi_logloss: 0.400969\tvalid_0's multi_error: 0.281907\n",
            "[4]\tvalid_0's multi_logloss: 0.343779\tvalid_0's multi_error: 0.00288599\n",
            "[5]\tvalid_0's multi_logloss: 0.308006\tvalid_0's multi_error: 0.00294942\n",
            "[6]\tvalid_0's multi_logloss: 0.27198\tvalid_0's multi_error: 0.00272742\n",
            "[7]\tvalid_0's multi_logloss: 0.255007\tvalid_0's multi_error: 0.00302342\n",
            "[8]\tvalid_0's multi_logloss: 0.213276\tvalid_0's multi_error: 0.00251599\n",
            "[9]\tvalid_0's multi_logloss: 0.205743\tvalid_0's multi_error: 0.00281199\n",
            "[10]\tvalid_0's multi_logloss: 0.180026\tvalid_0's multi_error: 0.0026217\n",
            "[11]\tvalid_0's multi_logloss: 0.174821\tvalid_0's multi_error: 0.00297056\n",
            "[12]\tvalid_0's multi_logloss: 0.145301\tvalid_0's multi_error: 0.00253713\n",
            "[13]\tvalid_0's multi_logloss: 0.148162\tvalid_0's multi_error: 0.00295999\n",
            "[14]\tvalid_0's multi_logloss: 0.115838\tvalid_0's multi_error: 0.00245256\n",
            "[15]\tvalid_0's multi_logloss: 0.122238\tvalid_0's multi_error: 0.0028437\n",
            "[16]\tvalid_0's multi_logloss: 0.105689\tvalid_0's multi_error: 0.00267456\n",
            "[17]\tvalid_0's multi_logloss: 0.104838\tvalid_0's multi_error: 0.00287542\n",
            "[18]\tvalid_0's multi_logloss: 0.0884899\tvalid_0's multi_error: 0.00267456\n",
            "[19]\tvalid_0's multi_logloss: 0.107605\tvalid_0's multi_error: 0.00337227\n",
            "[20]\tvalid_0's multi_logloss: 0.0732041\tvalid_0's multi_error: 0.00256885\n",
            "[21]\tvalid_0's multi_logloss: 0.100969\tvalid_0's multi_error: 0.00342513\n",
            "[22]\tvalid_0's multi_logloss: 0.0629084\tvalid_0's multi_error: 0.00253713\n",
            "[23]\tvalid_0's multi_logloss: 0.104584\tvalid_0's multi_error: 0.00384798\n",
            "[24]\tvalid_0's multi_logloss: 0.0536755\tvalid_0's multi_error: 0.00250542\n",
            "[25]\tvalid_0's multi_logloss: 0.103577\tvalid_0's multi_error: 0.00398541\n",
            "[26]\tvalid_0's multi_logloss: 0.0623205\tvalid_0's multi_error: 0.00300227\n",
            "[27]\tvalid_0's multi_logloss: 0.127809\tvalid_0's multi_error: 0.00491569\n",
            "[28]\tvalid_0's multi_logloss: 0.0547762\tvalid_0's multi_error: 0.00297056\n",
            "[29]\tvalid_0's multi_logloss: 0.117751\tvalid_0's multi_error: 0.00485226\n",
            "[30]\tvalid_0's multi_logloss: 0.0573371\tvalid_0's multi_error: 0.00316084\n",
            "[31]\tvalid_0's multi_logloss: 0.138841\tvalid_0's multi_error: 0.00562398\n",
            "[32]\tvalid_0's multi_logloss: 0.0645881\tvalid_0's multi_error: 0.00353084\n",
            "[33]\tvalid_0's multi_logloss: 0.169879\tvalid_0's multi_error: 0.00646969\n",
            "[34]\tvalid_0's multi_logloss: 0.0777425\tvalid_0's multi_error: 0.00415455\n",
            "[35]\tvalid_0's multi_logloss: 0.251561\tvalid_0's multi_error: 0.00924996\n",
            "[36]\tvalid_0's multi_logloss: 0.213453\tvalid_0's multi_error: 0.00812939\n",
            "[37]\tvalid_0's multi_logloss: 0.163166\tvalid_0's multi_error: 0.00628997\n",
            "[38]\tvalid_0's multi_logloss: 0.157149\tvalid_0's multi_error: 0.00640626\n",
            "[39]\tvalid_0's multi_logloss: 0.357673\tvalid_0's multi_error: 0.0121571\n",
            "[40]\tvalid_0's multi_logloss: 0.630703\tvalid_0's multi_error: 0.0262699\n",
            "[41]\tvalid_0's multi_logloss: 0.666655\tvalid_0's multi_error: 0.0212379\n",
            "[42]\tvalid_0's multi_logloss: 0.211475\tvalid_0's multi_error: 0.00789682\n",
            "[43]\tvalid_0's multi_logloss: 0.5249\tvalid_0's multi_error: 0.0170622\n",
            "[44]\tvalid_0's multi_logloss: 0.349177\tvalid_0's multi_error: 0.0136159\n",
            "[45]\tvalid_0's multi_logloss: 0.770955\tvalid_0's multi_error: 0.0301707\n",
            "[46]\tvalid_0's multi_logloss: 0.873197\tvalid_0's multi_error: 0.0270627\n",
            "[47]\tvalid_0's multi_logloss: 1.06015\tvalid_0's multi_error: 0.032507\n",
            "[48]\tvalid_0's multi_logloss: 0.363352\tvalid_0's multi_error: 0.0123157\n",
            "[49]\tvalid_0's multi_logloss: 1.00431\tvalid_0's multi_error: 0.0327079\n",
            "[50]\tvalid_0's multi_logloss: 0.185806\tvalid_0's multi_error: 0.0074634\n",
            "[51]\tvalid_0's multi_logloss: 1.24756\tvalid_0's multi_error: 0.0379301\n",
            "[52]\tvalid_0's multi_logloss: 0.765695\tvalid_0's multi_error: 0.0240393\n",
            "[53]\tvalid_0's multi_logloss: 0.922792\tvalid_0's multi_error: 0.0285322\n",
            "[54]\tvalid_0's multi_logloss: 1.53457\tvalid_0's multi_error: 0.0506158\n",
            "[55]\tvalid_0's multi_logloss: 0.711856\tvalid_0's multi_error: 0.0224959\n",
            "[56]\tvalid_0's multi_logloss: 1.52676\tvalid_0's multi_error: 0.0459749\n",
            "[57]\tvalid_0's multi_logloss: 0.615087\tvalid_0's multi_error: 0.0389978\n",
            "[58]\tvalid_0's multi_logloss: 1.21685\tvalid_0's multi_error: 0.106528\n",
            "[59]\tvalid_0's multi_logloss: 6.30812\tvalid_0's multi_error: 0.254273\n",
            "[60]\tvalid_0's multi_logloss: 0.326565\tvalid_0's multi_error: 0.0815582\n",
            "[61]\tvalid_0's multi_logloss: 0.296\tvalid_0's multi_error: 0.00903853\n",
            "[62]\tvalid_0's multi_logloss: 0.303916\tvalid_0's multi_error: 0.00997939\n",
            "[63]\tvalid_0's multi_logloss: 0.271771\tvalid_0's multi_error: 0.0103811\n",
            "[64]\tvalid_0's multi_logloss: 0.840283\tvalid_0's multi_error: 0.0253607\n",
            "Early stopping, best iteration is:\n",
            "[14]\tvalid_0's multi_logloss: 0.115838\tvalid_0's multi_error: 0.00245256\n"
          ],
          "name": "stdout"
        },
        {
          "output_type": "execute_result",
          "data": {
            "text/plain": [
              "LGBMClassifier(boosting_type='gbdt', class_weight=None, colsample_bytree=1.0,\n",
              "               importance_type='split', learning_rate=0.1, max_depth=-1,\n",
              "               min_child_samples=20, min_child_weight=0.001, min_split_gain=0.0,\n",
              "               n_estimators=400, n_jobs=-1, num_leaves=31, objective=None,\n",
              "               random_state=42, reg_alpha=0.0, reg_lambda=0.0, silent=True,\n",
              "               subsample=1.0, subsample_for_bin=200000, subsample_freq=0)"
            ]
          },
          "metadata": {
            "tags": []
          },
          "execution_count": 69
        }
      ]
    },
    {
      "cell_type": "code",
      "metadata": {
        "colab": {
          "base_uri": "https://localhost:8080/"
        },
        "id": "rgSuedgTvmdB",
        "outputId": "e374e660-af67-4e5e-f040-c41908678e6e"
      },
      "source": [
        "# LGBM 모델\n",
        "import xgboost as xgb ## XGBoost 불러오기\n",
        "lgb = xgb.XGBClassifier(n_estimators=1000, random_state=42)\n",
        "evals = [(x_val_vector, label_val)]\n",
        "lgb.fit(x_train_vector, label_train, early_stopping_rounds=50, eval_metric='merror', eval_set=evals, verbose=True)"
      ],
      "execution_count": null,
      "outputs": [
        {
          "output_type": "stream",
          "text": [
            "[0]\tvalidation_0-merror:0.010349\n",
            "Will train until validation_0-merror hasn't improved in 50 rounds.\n",
            "[1]\tvalidation_0-merror:0.010085\n",
            "[2]\tvalidation_0-merror:0.009884\n",
            "[3]\tvalidation_0-merror:0.009863\n",
            "[4]\tvalidation_0-merror:0.009631\n",
            "[5]\tvalidation_0-merror:0.009514\n",
            "[6]\tvalidation_0-merror:0.009356\n",
            "[7]\tvalidation_0-merror:0.009324\n",
            "[8]\tvalidation_0-merror:0.00925\n",
            "[9]\tvalidation_0-merror:0.009779\n",
            "[10]\tvalidation_0-merror:0.009525\n",
            "[11]\tvalidation_0-merror:0.00944\n",
            "[12]\tvalidation_0-merror:0.009113\n",
            "[13]\tvalidation_0-merror:0.009113\n",
            "[14]\tvalidation_0-merror:0.009123\n",
            "[15]\tvalidation_0-merror:0.0087\n",
            "[16]\tvalidation_0-merror:0.008711\n",
            "[17]\tvalidation_0-merror:0.008679\n",
            "[18]\tvalidation_0-merror:0.008425\n",
            "[19]\tvalidation_0-merror:0.007823\n",
            "[20]\tvalidation_0-merror:0.007844\n",
            "[21]\tvalidation_0-merror:0.007189\n",
            "[22]\tvalidation_0-merror:0.007115\n",
            "[23]\tvalidation_0-merror:0.007125\n",
            "[24]\tvalidation_0-merror:0.006977\n",
            "[25]\tvalidation_0-merror:0.006945\n",
            "[26]\tvalidation_0-merror:0.006945\n",
            "[27]\tvalidation_0-merror:0.006544\n",
            "[28]\tvalidation_0-merror:0.005994\n",
            "[29]\tvalidation_0-merror:0.005952\n",
            "[30]\tvalidation_0-merror:0.005899\n",
            "[31]\tvalidation_0-merror:0.005846\n",
            "[32]\tvalidation_0-merror:0.005761\n",
            "[33]\tvalidation_0-merror:0.00573\n",
            "[34]\tvalidation_0-merror:0.005698\n",
            "[35]\tvalidation_0-merror:0.005624\n",
            "[36]\tvalidation_0-merror:0.004482\n",
            "[37]\tvalidation_0-merror:0.004503\n",
            "[38]\tvalidation_0-merror:0.004313\n",
            "[39]\tvalidation_0-merror:0.004281\n",
            "[40]\tvalidation_0-merror:0.004313\n",
            "[41]\tvalidation_0-merror:0.004313\n",
            "[42]\tvalidation_0-merror:0.004176\n",
            "[43]\tvalidation_0-merror:0.003869\n",
            "[44]\tvalidation_0-merror:0.003795\n",
            "[45]\tvalidation_0-merror:0.003806\n",
            "[46]\tvalidation_0-merror:0.0037\n",
            "[47]\tvalidation_0-merror:0.00351\n",
            "[48]\tvalidation_0-merror:0.003457\n",
            "[49]\tvalidation_0-merror:0.003467\n",
            "[50]\tvalidation_0-merror:0.003457\n",
            "[51]\tvalidation_0-merror:0.003436\n",
            "[52]\tvalidation_0-merror:0.003436\n",
            "[53]\tvalidation_0-merror:0.003436\n",
            "[54]\tvalidation_0-merror:0.003425\n",
            "[55]\tvalidation_0-merror:0.003393\n",
            "[56]\tvalidation_0-merror:0.00333\n",
            "[57]\tvalidation_0-merror:0.003319\n",
            "[58]\tvalidation_0-merror:0.003319\n",
            "[59]\tvalidation_0-merror:0.003319\n",
            "[60]\tvalidation_0-merror:0.00315\n",
            "[61]\tvalidation_0-merror:0.00315\n",
            "[62]\tvalidation_0-merror:0.003161\n",
            "[63]\tvalidation_0-merror:0.00314\n",
            "[64]\tvalidation_0-merror:0.003108\n",
            "[65]\tvalidation_0-merror:0.003087\n",
            "[66]\tvalidation_0-merror:0.003034\n",
            "[67]\tvalidation_0-merror:0.003013\n",
            "[68]\tvalidation_0-merror:0.002992\n",
            "[69]\tvalidation_0-merror:0.002992\n",
            "[70]\tvalidation_0-merror:0.002949\n",
            "[71]\tvalidation_0-merror:0.002939\n",
            "[72]\tvalidation_0-merror:0.002939\n",
            "[73]\tvalidation_0-merror:0.002939\n",
            "[74]\tvalidation_0-merror:0.00296\n",
            "[75]\tvalidation_0-merror:0.002939\n",
            "[76]\tvalidation_0-merror:0.002918\n",
            "[77]\tvalidation_0-merror:0.002907\n",
            "[78]\tvalidation_0-merror:0.002886\n",
            "[79]\tvalidation_0-merror:0.002907\n",
            "[80]\tvalidation_0-merror:0.002875\n",
            "[81]\tvalidation_0-merror:0.002854\n",
            "[82]\tvalidation_0-merror:0.002844\n",
            "[83]\tvalidation_0-merror:0.002833\n",
            "[84]\tvalidation_0-merror:0.002844\n",
            "[85]\tvalidation_0-merror:0.002675\n",
            "[86]\tvalidation_0-merror:0.002664\n",
            "[87]\tvalidation_0-merror:0.002685\n",
            "[88]\tvalidation_0-merror:0.002664\n",
            "[89]\tvalidation_0-merror:0.002675\n",
            "[90]\tvalidation_0-merror:0.002601\n",
            "[91]\tvalidation_0-merror:0.002601\n",
            "[92]\tvalidation_0-merror:0.002611\n",
            "[93]\tvalidation_0-merror:0.002611\n",
            "[94]\tvalidation_0-merror:0.002622\n",
            "[95]\tvalidation_0-merror:0.002632\n",
            "[96]\tvalidation_0-merror:0.002622\n",
            "[97]\tvalidation_0-merror:0.002632\n",
            "[98]\tvalidation_0-merror:0.002632\n",
            "[99]\tvalidation_0-merror:0.002622\n",
            "[100]\tvalidation_0-merror:0.00259\n",
            "[101]\tvalidation_0-merror:0.002611\n",
            "[102]\tvalidation_0-merror:0.002611\n",
            "[103]\tvalidation_0-merror:0.002601\n",
            "[104]\tvalidation_0-merror:0.002569\n",
            "[105]\tvalidation_0-merror:0.002558\n",
            "[106]\tvalidation_0-merror:0.002527\n",
            "[107]\tvalidation_0-merror:0.002548\n",
            "[108]\tvalidation_0-merror:0.002558\n",
            "[109]\tvalidation_0-merror:0.002558\n",
            "[110]\tvalidation_0-merror:0.002527\n",
            "[111]\tvalidation_0-merror:0.002527\n",
            "[112]\tvalidation_0-merror:0.002527\n",
            "[113]\tvalidation_0-merror:0.002537\n",
            "[114]\tvalidation_0-merror:0.002537\n",
            "[115]\tvalidation_0-merror:0.002548\n",
            "[116]\tvalidation_0-merror:0.002548\n",
            "[117]\tvalidation_0-merror:0.002537\n",
            "[118]\tvalidation_0-merror:0.002537\n",
            "[119]\tvalidation_0-merror:0.002537\n",
            "[120]\tvalidation_0-merror:0.002537\n",
            "[121]\tvalidation_0-merror:0.002516\n",
            "[122]\tvalidation_0-merror:0.002505\n",
            "[123]\tvalidation_0-merror:0.002505\n",
            "[124]\tvalidation_0-merror:0.002495\n",
            "[125]\tvalidation_0-merror:0.002495\n",
            "[126]\tvalidation_0-merror:0.002516\n",
            "[127]\tvalidation_0-merror:0.002495\n",
            "[128]\tvalidation_0-merror:0.002516\n",
            "[129]\tvalidation_0-merror:0.002516\n",
            "[130]\tvalidation_0-merror:0.002505\n",
            "[131]\tvalidation_0-merror:0.002495\n",
            "[132]\tvalidation_0-merror:0.002442\n",
            "[133]\tvalidation_0-merror:0.002442\n",
            "[134]\tvalidation_0-merror:0.0024\n",
            "[135]\tvalidation_0-merror:0.00241\n",
            "[136]\tvalidation_0-merror:0.00241\n",
            "[137]\tvalidation_0-merror:0.0024\n",
            "[138]\tvalidation_0-merror:0.002389\n",
            "[139]\tvalidation_0-merror:0.002326\n",
            "[140]\tvalidation_0-merror:0.002326\n",
            "[141]\tvalidation_0-merror:0.002336\n",
            "[142]\tvalidation_0-merror:0.002326\n",
            "[143]\tvalidation_0-merror:0.002326\n",
            "[144]\tvalidation_0-merror:0.002336\n",
            "[145]\tvalidation_0-merror:0.002336\n",
            "[146]\tvalidation_0-merror:0.002347\n",
            "[147]\tvalidation_0-merror:0.002357\n",
            "[148]\tvalidation_0-merror:0.002368\n",
            "[149]\tvalidation_0-merror:0.002368\n",
            "[150]\tvalidation_0-merror:0.002368\n",
            "[151]\tvalidation_0-merror:0.002368\n",
            "[152]\tvalidation_0-merror:0.002368\n",
            "[153]\tvalidation_0-merror:0.002368\n",
            "[154]\tvalidation_0-merror:0.002368\n",
            "[155]\tvalidation_0-merror:0.002368\n",
            "[156]\tvalidation_0-merror:0.002368\n",
            "[157]\tvalidation_0-merror:0.002368\n",
            "[158]\tvalidation_0-merror:0.002368\n",
            "[159]\tvalidation_0-merror:0.002357\n",
            "[160]\tvalidation_0-merror:0.002357\n",
            "[161]\tvalidation_0-merror:0.002357\n",
            "[162]\tvalidation_0-merror:0.002336\n",
            "[163]\tvalidation_0-merror:0.002347\n",
            "[164]\tvalidation_0-merror:0.002336\n",
            "[165]\tvalidation_0-merror:0.002336\n",
            "[166]\tvalidation_0-merror:0.002347\n",
            "[167]\tvalidation_0-merror:0.002326\n",
            "[168]\tvalidation_0-merror:0.002315\n",
            "[169]\tvalidation_0-merror:0.002315\n",
            "[170]\tvalidation_0-merror:0.002305\n",
            "[171]\tvalidation_0-merror:0.002326\n",
            "[172]\tvalidation_0-merror:0.002336\n",
            "[173]\tvalidation_0-merror:0.002347\n",
            "[174]\tvalidation_0-merror:0.002336\n",
            "[175]\tvalidation_0-merror:0.002336\n",
            "[176]\tvalidation_0-merror:0.002336\n",
            "[177]\tvalidation_0-merror:0.002336\n",
            "[178]\tvalidation_0-merror:0.002326\n",
            "[179]\tvalidation_0-merror:0.002336\n",
            "[180]\tvalidation_0-merror:0.002283\n",
            "[181]\tvalidation_0-merror:0.002283\n",
            "[182]\tvalidation_0-merror:0.002283\n",
            "[183]\tvalidation_0-merror:0.002273\n",
            "[184]\tvalidation_0-merror:0.002273\n",
            "[185]\tvalidation_0-merror:0.002283\n",
            "[186]\tvalidation_0-merror:0.002283\n",
            "[187]\tvalidation_0-merror:0.002273\n",
            "[188]\tvalidation_0-merror:0.002273\n",
            "[189]\tvalidation_0-merror:0.002283\n",
            "[190]\tvalidation_0-merror:0.002294\n",
            "[191]\tvalidation_0-merror:0.002283\n",
            "[192]\tvalidation_0-merror:0.002294\n",
            "[193]\tvalidation_0-merror:0.002273\n",
            "[194]\tvalidation_0-merror:0.002273\n",
            "[195]\tvalidation_0-merror:0.002283\n",
            "[196]\tvalidation_0-merror:0.002283\n",
            "[197]\tvalidation_0-merror:0.002283\n",
            "[198]\tvalidation_0-merror:0.002273\n",
            "[199]\tvalidation_0-merror:0.002262\n",
            "[200]\tvalidation_0-merror:0.002262\n",
            "[201]\tvalidation_0-merror:0.002283\n",
            "[202]\tvalidation_0-merror:0.002283\n",
            "[203]\tvalidation_0-merror:0.002283\n",
            "[204]\tvalidation_0-merror:0.002283\n",
            "[205]\tvalidation_0-merror:0.002273\n",
            "[206]\tvalidation_0-merror:0.002273\n",
            "[207]\tvalidation_0-merror:0.002252\n",
            "[208]\tvalidation_0-merror:0.002252\n",
            "[209]\tvalidation_0-merror:0.002252\n",
            "[210]\tvalidation_0-merror:0.002241\n",
            "[211]\tvalidation_0-merror:0.002241\n",
            "[212]\tvalidation_0-merror:0.002241\n",
            "[213]\tvalidation_0-merror:0.002262\n",
            "[214]\tvalidation_0-merror:0.002241\n",
            "[215]\tvalidation_0-merror:0.002231\n",
            "[216]\tvalidation_0-merror:0.002231\n",
            "[217]\tvalidation_0-merror:0.002231\n",
            "[218]\tvalidation_0-merror:0.00222\n",
            "[219]\tvalidation_0-merror:0.002231\n",
            "[220]\tvalidation_0-merror:0.00222\n",
            "[221]\tvalidation_0-merror:0.00222\n",
            "[222]\tvalidation_0-merror:0.00222\n",
            "[223]\tvalidation_0-merror:0.002209\n",
            "[224]\tvalidation_0-merror:0.002209\n",
            "[225]\tvalidation_0-merror:0.002209\n",
            "[226]\tvalidation_0-merror:0.002199\n",
            "[227]\tvalidation_0-merror:0.002209\n",
            "[228]\tvalidation_0-merror:0.00222\n",
            "[229]\tvalidation_0-merror:0.002209\n",
            "[230]\tvalidation_0-merror:0.002209\n",
            "[231]\tvalidation_0-merror:0.002209\n",
            "[232]\tvalidation_0-merror:0.002209\n",
            "[233]\tvalidation_0-merror:0.002188\n",
            "[234]\tvalidation_0-merror:0.002188\n",
            "[235]\tvalidation_0-merror:0.002188\n",
            "[236]\tvalidation_0-merror:0.002188\n",
            "[237]\tvalidation_0-merror:0.00222\n",
            "[238]\tvalidation_0-merror:0.002199\n",
            "[239]\tvalidation_0-merror:0.00222\n",
            "[240]\tvalidation_0-merror:0.002231\n",
            "[241]\tvalidation_0-merror:0.002209\n",
            "[242]\tvalidation_0-merror:0.002209\n",
            "[243]\tvalidation_0-merror:0.002199\n",
            "[244]\tvalidation_0-merror:0.002199\n",
            "[245]\tvalidation_0-merror:0.00222\n",
            "[246]\tvalidation_0-merror:0.002231\n",
            "[247]\tvalidation_0-merror:0.00222\n",
            "[248]\tvalidation_0-merror:0.00222\n",
            "[249]\tvalidation_0-merror:0.00222\n",
            "[250]\tvalidation_0-merror:0.00222\n",
            "[251]\tvalidation_0-merror:0.002209\n",
            "[252]\tvalidation_0-merror:0.002209\n",
            "[253]\tvalidation_0-merror:0.002199\n",
            "[254]\tvalidation_0-merror:0.002188\n",
            "[255]\tvalidation_0-merror:0.002188\n",
            "[256]\tvalidation_0-merror:0.002199\n",
            "[257]\tvalidation_0-merror:0.002199\n",
            "[258]\tvalidation_0-merror:0.002188\n",
            "[259]\tvalidation_0-merror:0.002199\n",
            "[260]\tvalidation_0-merror:0.002199\n",
            "[261]\tvalidation_0-merror:0.002188\n",
            "[262]\tvalidation_0-merror:0.002199\n",
            "[263]\tvalidation_0-merror:0.002199\n",
            "[264]\tvalidation_0-merror:0.002199\n",
            "[265]\tvalidation_0-merror:0.002178\n",
            "[266]\tvalidation_0-merror:0.002178\n",
            "[267]\tvalidation_0-merror:0.002178\n",
            "[268]\tvalidation_0-merror:0.002178\n",
            "[269]\tvalidation_0-merror:0.002178\n",
            "[270]\tvalidation_0-merror:0.002178\n",
            "[271]\tvalidation_0-merror:0.002178\n",
            "[272]\tvalidation_0-merror:0.002178\n",
            "[273]\tvalidation_0-merror:0.002188\n",
            "[274]\tvalidation_0-merror:0.002188\n",
            "[275]\tvalidation_0-merror:0.002199\n",
            "[276]\tvalidation_0-merror:0.002188\n",
            "[277]\tvalidation_0-merror:0.002178\n",
            "[278]\tvalidation_0-merror:0.002209\n",
            "[279]\tvalidation_0-merror:0.002209\n",
            "[280]\tvalidation_0-merror:0.002209\n",
            "[281]\tvalidation_0-merror:0.002209\n",
            "[282]\tvalidation_0-merror:0.002209\n",
            "[283]\tvalidation_0-merror:0.002209\n",
            "[284]\tvalidation_0-merror:0.002209\n",
            "[285]\tvalidation_0-merror:0.002209\n",
            "[286]\tvalidation_0-merror:0.002199\n",
            "[287]\tvalidation_0-merror:0.002209\n",
            "[288]\tvalidation_0-merror:0.002209\n",
            "[289]\tvalidation_0-merror:0.00222\n",
            "[290]\tvalidation_0-merror:0.00222\n",
            "[291]\tvalidation_0-merror:0.00222\n",
            "[292]\tvalidation_0-merror:0.00222\n",
            "[293]\tvalidation_0-merror:0.00222\n",
            "[294]\tvalidation_0-merror:0.002209\n",
            "[295]\tvalidation_0-merror:0.002209\n",
            "[296]\tvalidation_0-merror:0.00222\n",
            "[297]\tvalidation_0-merror:0.002199\n",
            "[298]\tvalidation_0-merror:0.002209\n",
            "[299]\tvalidation_0-merror:0.00222\n",
            "[300]\tvalidation_0-merror:0.00222\n",
            "[301]\tvalidation_0-merror:0.00222\n",
            "[302]\tvalidation_0-merror:0.00222\n",
            "[303]\tvalidation_0-merror:0.00222\n",
            "[304]\tvalidation_0-merror:0.00222\n",
            "[305]\tvalidation_0-merror:0.00222\n",
            "[306]\tvalidation_0-merror:0.002231\n",
            "[307]\tvalidation_0-merror:0.002231\n",
            "[308]\tvalidation_0-merror:0.002231\n",
            "[309]\tvalidation_0-merror:0.002231\n",
            "[310]\tvalidation_0-merror:0.002252\n",
            "[311]\tvalidation_0-merror:0.002252\n",
            "[312]\tvalidation_0-merror:0.002252\n",
            "[313]\tvalidation_0-merror:0.002252\n",
            "[314]\tvalidation_0-merror:0.002252\n",
            "[315]\tvalidation_0-merror:0.002252\n",
            "Stopping. Best iteration:\n",
            "[265]\tvalidation_0-merror:0.002178\n",
            "\n"
          ],
          "name": "stdout"
        },
        {
          "output_type": "execute_result",
          "data": {
            "text/plain": [
              "XGBClassifier(base_score=0.5, booster='gbtree', colsample_bylevel=1,\n",
              "              colsample_bynode=1, colsample_bytree=1, gamma=0,\n",
              "              learning_rate=0.1, max_delta_step=0, max_depth=3,\n",
              "              min_child_weight=1, missing=None, n_estimators=1000, n_jobs=1,\n",
              "              nthread=None, objective='multi:softprob', random_state=42,\n",
              "              reg_alpha=0, reg_lambda=1, scale_pos_weight=1, seed=None,\n",
              "              silent=None, subsample=1, verbosity=1)"
            ]
          },
          "metadata": {
            "tags": []
          },
          "execution_count": 91
        }
      ]
    },
    {
      "cell_type": "markdown",
      "metadata": {
        "id": "3SRcneqP87Ed"
      },
      "source": [
        "* XGBClassifier\n",
        "              (base_score=0.5, booster='gbtree', colsample_bylevel=1,\n",
        "              colsample_bynode=1, colsample_bytree=1, gamma=0,\n",
        "              learning_rate=0.1, max_delta_step=0, max_depth=3,\n",
        "              min_child_weight=1, missing=None, n_estimators=1000, n_jobs=1,\n",
        "              nthread=None, objective='multi:softprob', random_state=42,\n",
        "              reg_alpha=0, reg_lambda=1, scale_pos_weight=1, seed=None,\n",
        "              silent=None, subsample=1, verbosity=1)\n",
        "\n",
        "* 0.9472021192302403"
      ]
    },
    {
      "cell_type": "code",
      "metadata": {
        "colab": {
          "base_uri": "https://localhost:8080/"
        },
        "id": "036nbFFb-Hid",
        "outputId": "6f60df2b-bb0e-4a9b-d96d-ce52d8f0bfd9"
      },
      "source": [
        "# LGBM 모델\n",
        "import xgboost as xgb ## XGBoost 불러오기\n",
        "lgb = xgb.XGBClassifier(n_estimators=1500, random_state=42, n_jobs=-1)\n",
        "evals = [(x_val_vector, label_val)]\n",
        "lgb.fit(x_train_vector, label_train, early_stopping_rounds=50, eval_metric='merror', eval_set=evals, verbose=True)"
      ],
      "execution_count": null,
      "outputs": [
        {
          "output_type": "stream",
          "text": [
            "[0]\tvalidation_0-merror:0.010349\n",
            "Will train until validation_0-merror hasn't improved in 50 rounds.\n",
            "[1]\tvalidation_0-merror:0.010085\n",
            "[2]\tvalidation_0-merror:0.009884\n",
            "[3]\tvalidation_0-merror:0.009863\n",
            "[4]\tvalidation_0-merror:0.009631\n",
            "[5]\tvalidation_0-merror:0.009514\n",
            "[6]\tvalidation_0-merror:0.009356\n",
            "[7]\tvalidation_0-merror:0.009324\n",
            "[8]\tvalidation_0-merror:0.00925\n",
            "[9]\tvalidation_0-merror:0.009779\n",
            "[10]\tvalidation_0-merror:0.009525\n",
            "[11]\tvalidation_0-merror:0.00944\n",
            "[12]\tvalidation_0-merror:0.009113\n",
            "[13]\tvalidation_0-merror:0.009113\n",
            "[14]\tvalidation_0-merror:0.009123\n",
            "[15]\tvalidation_0-merror:0.0087\n",
            "[16]\tvalidation_0-merror:0.008711\n",
            "[17]\tvalidation_0-merror:0.008679\n",
            "[18]\tvalidation_0-merror:0.008425\n",
            "[19]\tvalidation_0-merror:0.007823\n",
            "[20]\tvalidation_0-merror:0.007844\n",
            "[21]\tvalidation_0-merror:0.007189\n",
            "[22]\tvalidation_0-merror:0.007115\n",
            "[23]\tvalidation_0-merror:0.007125\n",
            "[24]\tvalidation_0-merror:0.006977\n",
            "[25]\tvalidation_0-merror:0.006945\n",
            "[26]\tvalidation_0-merror:0.006945\n",
            "[27]\tvalidation_0-merror:0.006544\n",
            "[28]\tvalidation_0-merror:0.005994\n",
            "[29]\tvalidation_0-merror:0.005952\n",
            "[30]\tvalidation_0-merror:0.005899\n",
            "[31]\tvalidation_0-merror:0.005846\n",
            "[32]\tvalidation_0-merror:0.005761\n",
            "[33]\tvalidation_0-merror:0.00573\n",
            "[34]\tvalidation_0-merror:0.005698\n",
            "[35]\tvalidation_0-merror:0.005624\n",
            "[36]\tvalidation_0-merror:0.004482\n",
            "[37]\tvalidation_0-merror:0.004503\n",
            "[38]\tvalidation_0-merror:0.004313\n",
            "[39]\tvalidation_0-merror:0.004281\n",
            "[40]\tvalidation_0-merror:0.004313\n",
            "[41]\tvalidation_0-merror:0.004313\n",
            "[42]\tvalidation_0-merror:0.004176\n",
            "[43]\tvalidation_0-merror:0.003869\n",
            "[44]\tvalidation_0-merror:0.003795\n",
            "[45]\tvalidation_0-merror:0.003806\n",
            "[46]\tvalidation_0-merror:0.0037\n",
            "[47]\tvalidation_0-merror:0.00351\n",
            "[48]\tvalidation_0-merror:0.003457\n",
            "[49]\tvalidation_0-merror:0.003467\n",
            "[50]\tvalidation_0-merror:0.003457\n",
            "[51]\tvalidation_0-merror:0.003436\n",
            "[52]\tvalidation_0-merror:0.003436\n",
            "[53]\tvalidation_0-merror:0.003436\n",
            "[54]\tvalidation_0-merror:0.003425\n",
            "[55]\tvalidation_0-merror:0.003393\n",
            "[56]\tvalidation_0-merror:0.00333\n",
            "[57]\tvalidation_0-merror:0.003319\n",
            "[58]\tvalidation_0-merror:0.003319\n",
            "[59]\tvalidation_0-merror:0.003319\n",
            "[60]\tvalidation_0-merror:0.00315\n",
            "[61]\tvalidation_0-merror:0.00315\n",
            "[62]\tvalidation_0-merror:0.003161\n",
            "[63]\tvalidation_0-merror:0.00314\n",
            "[64]\tvalidation_0-merror:0.003108\n",
            "[65]\tvalidation_0-merror:0.003087\n",
            "[66]\tvalidation_0-merror:0.003034\n",
            "[67]\tvalidation_0-merror:0.003013\n",
            "[68]\tvalidation_0-merror:0.002992\n",
            "[69]\tvalidation_0-merror:0.002992\n",
            "[70]\tvalidation_0-merror:0.002949\n",
            "[71]\tvalidation_0-merror:0.002939\n",
            "[72]\tvalidation_0-merror:0.002939\n",
            "[73]\tvalidation_0-merror:0.002939\n",
            "[74]\tvalidation_0-merror:0.00296\n",
            "[75]\tvalidation_0-merror:0.002939\n",
            "[76]\tvalidation_0-merror:0.002918\n",
            "[77]\tvalidation_0-merror:0.002907\n",
            "[78]\tvalidation_0-merror:0.002886\n",
            "[79]\tvalidation_0-merror:0.002907\n",
            "[80]\tvalidation_0-merror:0.002875\n",
            "[81]\tvalidation_0-merror:0.002854\n",
            "[82]\tvalidation_0-merror:0.002844\n",
            "[83]\tvalidation_0-merror:0.002833\n",
            "[84]\tvalidation_0-merror:0.002844\n",
            "[85]\tvalidation_0-merror:0.002675\n",
            "[86]\tvalidation_0-merror:0.002664\n",
            "[87]\tvalidation_0-merror:0.002685\n",
            "[88]\tvalidation_0-merror:0.002664\n",
            "[89]\tvalidation_0-merror:0.002675\n",
            "[90]\tvalidation_0-merror:0.002601\n",
            "[91]\tvalidation_0-merror:0.002601\n",
            "[92]\tvalidation_0-merror:0.002611\n",
            "[93]\tvalidation_0-merror:0.002611\n",
            "[94]\tvalidation_0-merror:0.002622\n",
            "[95]\tvalidation_0-merror:0.002632\n",
            "[96]\tvalidation_0-merror:0.002622\n",
            "[97]\tvalidation_0-merror:0.002632\n",
            "[98]\tvalidation_0-merror:0.002632\n",
            "[99]\tvalidation_0-merror:0.002622\n",
            "[100]\tvalidation_0-merror:0.00259\n",
            "[101]\tvalidation_0-merror:0.002611\n",
            "[102]\tvalidation_0-merror:0.002611\n",
            "[103]\tvalidation_0-merror:0.002601\n",
            "[104]\tvalidation_0-merror:0.002569\n",
            "[105]\tvalidation_0-merror:0.002558\n",
            "[106]\tvalidation_0-merror:0.002527\n",
            "[107]\tvalidation_0-merror:0.002548\n",
            "[108]\tvalidation_0-merror:0.002558\n",
            "[109]\tvalidation_0-merror:0.002558\n",
            "[110]\tvalidation_0-merror:0.002527\n",
            "[111]\tvalidation_0-merror:0.002527\n",
            "[112]\tvalidation_0-merror:0.002527\n",
            "[113]\tvalidation_0-merror:0.002537\n",
            "[114]\tvalidation_0-merror:0.002537\n",
            "[115]\tvalidation_0-merror:0.002548\n",
            "[116]\tvalidation_0-merror:0.002548\n",
            "[117]\tvalidation_0-merror:0.002537\n",
            "[118]\tvalidation_0-merror:0.002537\n",
            "[119]\tvalidation_0-merror:0.002537\n",
            "[120]\tvalidation_0-merror:0.002537\n",
            "[121]\tvalidation_0-merror:0.002516\n",
            "[122]\tvalidation_0-merror:0.002505\n",
            "[123]\tvalidation_0-merror:0.002505\n",
            "[124]\tvalidation_0-merror:0.002495\n",
            "[125]\tvalidation_0-merror:0.002495\n",
            "[126]\tvalidation_0-merror:0.002516\n",
            "[127]\tvalidation_0-merror:0.002495\n",
            "[128]\tvalidation_0-merror:0.002516\n",
            "[129]\tvalidation_0-merror:0.002516\n",
            "[130]\tvalidation_0-merror:0.002505\n",
            "[131]\tvalidation_0-merror:0.002495\n",
            "[132]\tvalidation_0-merror:0.002442\n",
            "[133]\tvalidation_0-merror:0.002442\n",
            "[134]\tvalidation_0-merror:0.0024\n",
            "[135]\tvalidation_0-merror:0.00241\n",
            "[136]\tvalidation_0-merror:0.00241\n",
            "[137]\tvalidation_0-merror:0.0024\n",
            "[138]\tvalidation_0-merror:0.002389\n",
            "[139]\tvalidation_0-merror:0.002326\n",
            "[140]\tvalidation_0-merror:0.002326\n",
            "[141]\tvalidation_0-merror:0.002336\n",
            "[142]\tvalidation_0-merror:0.002326\n",
            "[143]\tvalidation_0-merror:0.002326\n",
            "[144]\tvalidation_0-merror:0.002336\n",
            "[145]\tvalidation_0-merror:0.002336\n",
            "[146]\tvalidation_0-merror:0.002347\n",
            "[147]\tvalidation_0-merror:0.002357\n",
            "[148]\tvalidation_0-merror:0.002368\n",
            "[149]\tvalidation_0-merror:0.002368\n",
            "[150]\tvalidation_0-merror:0.002368\n",
            "[151]\tvalidation_0-merror:0.002368\n",
            "[152]\tvalidation_0-merror:0.002368\n",
            "[153]\tvalidation_0-merror:0.002368\n",
            "[154]\tvalidation_0-merror:0.002368\n",
            "[155]\tvalidation_0-merror:0.002368\n",
            "[156]\tvalidation_0-merror:0.002368\n",
            "[157]\tvalidation_0-merror:0.002368\n",
            "[158]\tvalidation_0-merror:0.002368\n",
            "[159]\tvalidation_0-merror:0.002357\n",
            "[160]\tvalidation_0-merror:0.002357\n",
            "[161]\tvalidation_0-merror:0.002357\n",
            "[162]\tvalidation_0-merror:0.002336\n",
            "[163]\tvalidation_0-merror:0.002347\n",
            "[164]\tvalidation_0-merror:0.002336\n",
            "[165]\tvalidation_0-merror:0.002336\n",
            "[166]\tvalidation_0-merror:0.002347\n",
            "[167]\tvalidation_0-merror:0.002326\n",
            "[168]\tvalidation_0-merror:0.002315\n",
            "[169]\tvalidation_0-merror:0.002315\n",
            "[170]\tvalidation_0-merror:0.002305\n",
            "[171]\tvalidation_0-merror:0.002326\n",
            "[172]\tvalidation_0-merror:0.002336\n",
            "[173]\tvalidation_0-merror:0.002347\n",
            "[174]\tvalidation_0-merror:0.002336\n",
            "[175]\tvalidation_0-merror:0.002336\n",
            "[176]\tvalidation_0-merror:0.002336\n",
            "[177]\tvalidation_0-merror:0.002336\n",
            "[178]\tvalidation_0-merror:0.002326\n",
            "[179]\tvalidation_0-merror:0.002336\n",
            "[180]\tvalidation_0-merror:0.002283\n",
            "[181]\tvalidation_0-merror:0.002283\n",
            "[182]\tvalidation_0-merror:0.002283\n",
            "[183]\tvalidation_0-merror:0.002273\n",
            "[184]\tvalidation_0-merror:0.002273\n",
            "[185]\tvalidation_0-merror:0.002283\n",
            "[186]\tvalidation_0-merror:0.002283\n",
            "[187]\tvalidation_0-merror:0.002273\n",
            "[188]\tvalidation_0-merror:0.002273\n",
            "[189]\tvalidation_0-merror:0.002283\n",
            "[190]\tvalidation_0-merror:0.002294\n",
            "[191]\tvalidation_0-merror:0.002283\n",
            "[192]\tvalidation_0-merror:0.002294\n",
            "[193]\tvalidation_0-merror:0.002273\n",
            "[194]\tvalidation_0-merror:0.002273\n",
            "[195]\tvalidation_0-merror:0.002283\n",
            "[196]\tvalidation_0-merror:0.002283\n",
            "[197]\tvalidation_0-merror:0.002283\n",
            "[198]\tvalidation_0-merror:0.002273\n",
            "[199]\tvalidation_0-merror:0.002262\n",
            "[200]\tvalidation_0-merror:0.002262\n",
            "[201]\tvalidation_0-merror:0.002283\n",
            "[202]\tvalidation_0-merror:0.002283\n",
            "[203]\tvalidation_0-merror:0.002283\n",
            "[204]\tvalidation_0-merror:0.002283\n",
            "[205]\tvalidation_0-merror:0.002273\n",
            "[206]\tvalidation_0-merror:0.002273\n",
            "[207]\tvalidation_0-merror:0.002252\n",
            "[208]\tvalidation_0-merror:0.002252\n",
            "[209]\tvalidation_0-merror:0.002252\n",
            "[210]\tvalidation_0-merror:0.002241\n",
            "[211]\tvalidation_0-merror:0.002241\n",
            "[212]\tvalidation_0-merror:0.002241\n",
            "[213]\tvalidation_0-merror:0.002262\n",
            "[214]\tvalidation_0-merror:0.002241\n",
            "[215]\tvalidation_0-merror:0.002231\n",
            "[216]\tvalidation_0-merror:0.002231\n",
            "[217]\tvalidation_0-merror:0.002231\n",
            "[218]\tvalidation_0-merror:0.00222\n",
            "[219]\tvalidation_0-merror:0.002231\n",
            "[220]\tvalidation_0-merror:0.00222\n",
            "[221]\tvalidation_0-merror:0.00222\n",
            "[222]\tvalidation_0-merror:0.00222\n",
            "[223]\tvalidation_0-merror:0.002209\n",
            "[224]\tvalidation_0-merror:0.002209\n",
            "[225]\tvalidation_0-merror:0.002209\n",
            "[226]\tvalidation_0-merror:0.002199\n",
            "[227]\tvalidation_0-merror:0.002209\n",
            "[228]\tvalidation_0-merror:0.00222\n",
            "[229]\tvalidation_0-merror:0.002209\n",
            "[230]\tvalidation_0-merror:0.002209\n",
            "[231]\tvalidation_0-merror:0.002209\n",
            "[232]\tvalidation_0-merror:0.002209\n",
            "[233]\tvalidation_0-merror:0.002188\n",
            "[234]\tvalidation_0-merror:0.002188\n",
            "[235]\tvalidation_0-merror:0.002188\n",
            "[236]\tvalidation_0-merror:0.002188\n",
            "[237]\tvalidation_0-merror:0.00222\n",
            "[238]\tvalidation_0-merror:0.002199\n",
            "[239]\tvalidation_0-merror:0.00222\n",
            "[240]\tvalidation_0-merror:0.002231\n",
            "[241]\tvalidation_0-merror:0.002209\n",
            "[242]\tvalidation_0-merror:0.002209\n",
            "[243]\tvalidation_0-merror:0.002199\n",
            "[244]\tvalidation_0-merror:0.002199\n",
            "[245]\tvalidation_0-merror:0.00222\n",
            "[246]\tvalidation_0-merror:0.002231\n",
            "[247]\tvalidation_0-merror:0.00222\n",
            "[248]\tvalidation_0-merror:0.00222\n",
            "[249]\tvalidation_0-merror:0.00222\n",
            "[250]\tvalidation_0-merror:0.00222\n",
            "[251]\tvalidation_0-merror:0.002209\n",
            "[252]\tvalidation_0-merror:0.002209\n",
            "[253]\tvalidation_0-merror:0.002199\n",
            "[254]\tvalidation_0-merror:0.002188\n",
            "[255]\tvalidation_0-merror:0.002188\n",
            "[256]\tvalidation_0-merror:0.002199\n",
            "[257]\tvalidation_0-merror:0.002199\n",
            "[258]\tvalidation_0-merror:0.002188\n",
            "[259]\tvalidation_0-merror:0.002199\n",
            "[260]\tvalidation_0-merror:0.002199\n",
            "[261]\tvalidation_0-merror:0.002188\n",
            "[262]\tvalidation_0-merror:0.002199\n",
            "[263]\tvalidation_0-merror:0.002199\n",
            "[264]\tvalidation_0-merror:0.002199\n",
            "[265]\tvalidation_0-merror:0.002178\n",
            "[266]\tvalidation_0-merror:0.002178\n",
            "[267]\tvalidation_0-merror:0.002178\n",
            "[268]\tvalidation_0-merror:0.002178\n",
            "[269]\tvalidation_0-merror:0.002178\n",
            "[270]\tvalidation_0-merror:0.002178\n",
            "[271]\tvalidation_0-merror:0.002178\n",
            "[272]\tvalidation_0-merror:0.002178\n",
            "[273]\tvalidation_0-merror:0.002188\n",
            "[274]\tvalidation_0-merror:0.002188\n",
            "[275]\tvalidation_0-merror:0.002199\n",
            "[276]\tvalidation_0-merror:0.002188\n",
            "[277]\tvalidation_0-merror:0.002178\n",
            "[278]\tvalidation_0-merror:0.002209\n",
            "[279]\tvalidation_0-merror:0.002209\n",
            "[280]\tvalidation_0-merror:0.002209\n",
            "[281]\tvalidation_0-merror:0.002209\n",
            "[282]\tvalidation_0-merror:0.002209\n",
            "[283]\tvalidation_0-merror:0.002209\n",
            "[284]\tvalidation_0-merror:0.002209\n",
            "[285]\tvalidation_0-merror:0.002209\n",
            "[286]\tvalidation_0-merror:0.002199\n",
            "[287]\tvalidation_0-merror:0.002209\n",
            "[288]\tvalidation_0-merror:0.002209\n",
            "[289]\tvalidation_0-merror:0.00222\n",
            "[290]\tvalidation_0-merror:0.00222\n",
            "[291]\tvalidation_0-merror:0.00222\n",
            "[292]\tvalidation_0-merror:0.00222\n",
            "[293]\tvalidation_0-merror:0.00222\n",
            "[294]\tvalidation_0-merror:0.002209\n",
            "[295]\tvalidation_0-merror:0.002209\n",
            "[296]\tvalidation_0-merror:0.00222\n",
            "[297]\tvalidation_0-merror:0.002199\n",
            "[298]\tvalidation_0-merror:0.002209\n",
            "[299]\tvalidation_0-merror:0.00222\n",
            "[300]\tvalidation_0-merror:0.00222\n",
            "[301]\tvalidation_0-merror:0.00222\n",
            "[302]\tvalidation_0-merror:0.00222\n",
            "[303]\tvalidation_0-merror:0.00222\n",
            "[304]\tvalidation_0-merror:0.00222\n",
            "[305]\tvalidation_0-merror:0.00222\n",
            "[306]\tvalidation_0-merror:0.002231\n",
            "[307]\tvalidation_0-merror:0.002231\n",
            "[308]\tvalidation_0-merror:0.002231\n",
            "[309]\tvalidation_0-merror:0.002231\n",
            "[310]\tvalidation_0-merror:0.002252\n",
            "[311]\tvalidation_0-merror:0.002252\n",
            "[312]\tvalidation_0-merror:0.002252\n",
            "[313]\tvalidation_0-merror:0.002252\n",
            "[314]\tvalidation_0-merror:0.002252\n",
            "[315]\tvalidation_0-merror:0.002252\n",
            "Stopping. Best iteration:\n",
            "[265]\tvalidation_0-merror:0.002178\n",
            "\n"
          ],
          "name": "stdout"
        },
        {
          "output_type": "execute_result",
          "data": {
            "text/plain": [
              "XGBClassifier(base_score=0.5, booster='gbtree', colsample_bylevel=1,\n",
              "              colsample_bynode=1, colsample_bytree=1, gamma=0,\n",
              "              learning_rate=0.1, max_delta_step=0, max_depth=3,\n",
              "              min_child_weight=1, missing=None, n_estimators=1500, n_jobs=1,\n",
              "              nthread=None, objective='multi:softprob', random_state=42,\n",
              "              reg_alpha=0, reg_lambda=1, scale_pos_weight=1, seed=None,\n",
              "              silent=None, subsample=1, verbosity=1)"
            ]
          },
          "metadata": {
            "tags": []
          },
          "execution_count": 96
        }
      ]
    },
    {
      "cell_type": "markdown",
      "metadata": {
        "id": "507S3svjFXtU"
      },
      "source": [
        "* XGBClassifier\n",
        "              (base_score=0.5, booster='gbtree', colsample_bylevel=1,\n",
        "              colsample_bynode=1, colsample_bytree=1, gamma=0,\n",
        "              learning_rate=0.1, max_delta_step=0, max_depth=3,\n",
        "              min_child_weight=1, missing=None, n_estimators=1500, n_jobs=1,\n",
        "              nthread=None, objective='multi:softprob', random_state=42,\n",
        "              reg_alpha=0, reg_lambda=1, scale_pos_weight=1, seed=None,\n",
        "              silent=None, subsample=1, verbosity=1)\n",
        "\n",
        "* 0.9472021192302403"
      ]
    },
    {
      "cell_type": "code",
      "metadata": {
        "id": "ErV0o8Ax-Hcn"
      },
      "source": [
        ""
      ],
      "execution_count": null,
      "outputs": []
    },
    {
      "cell_type": "code",
      "metadata": {
        "id": "DAuk_HOV-HY9"
      },
      "source": [
        ""
      ],
      "execution_count": null,
      "outputs": []
    },
    {
      "cell_type": "code",
      "metadata": {
        "id": "SrOq5eGY-HV5"
      },
      "source": [
        ""
      ],
      "execution_count": null,
      "outputs": []
    },
    {
      "cell_type": "code",
      "metadata": {
        "id": "rrO1F5wCvmX5"
      },
      "source": [
        ""
      ],
      "execution_count": null,
      "outputs": []
    },
    {
      "cell_type": "code",
      "metadata": {
        "colab": {
          "base_uri": "https://localhost:8080/"
        },
        "id": "E5JQhImqAc2W",
        "outputId": "bb038be9-90f9-415d-a7fd-d4657367aa96"
      },
      "source": [
        "# a = [100, 200, 300, 400, 600, 800]\n",
        "\n",
        "# for i in tqdm(a):\n",
        "#   print(i)\n",
        "#   forest=RandomForestClassifier(n_estimators=i)\n",
        "#   forest.fit(x_train_vector, label_train)\n",
        "\n",
        "#   preds=forest.predict(x_val_vector)\n",
        "#   f1 = macro_f1(label_val,preds)\n",
        "#   print(f1)"
      ],
      "execution_count": null,
      "outputs": [
        {
          "output_type": "stream",
          "text": [
            "\n",
            "  0%|          | 0/6 [00:00<?, ?it/s]\u001b[A\n",
            " 17%|█▋        | 1/6 [01:04<05:22, 64.49s/it]\u001b[A"
          ],
          "name": "stderr"
        },
        {
          "output_type": "stream",
          "text": [
            "0.8231783924173538\n"
          ],
          "name": "stdout"
        },
        {
          "output_type": "stream",
          "text": [
            "\n",
            " 33%|███▎      | 2/6 [03:12<05:34, 83.65s/it]\u001b[A"
          ],
          "name": "stderr"
        },
        {
          "output_type": "stream",
          "text": [
            "0.822552185468849\n"
          ],
          "name": "stdout"
        },
        {
          "output_type": "stream",
          "text": [
            "\n",
            " 50%|█████     | 3/6 [06:31<05:54, 118.05s/it]\u001b[A"
          ],
          "name": "stderr"
        },
        {
          "output_type": "stream",
          "text": [
            "0.8232823228474426\n"
          ],
          "name": "stdout"
        },
        {
          "output_type": "stream",
          "text": [
            "\n",
            " 67%|██████▋   | 4/6 [11:01<05:27, 163.76s/it]\u001b[A"
          ],
          "name": "stderr"
        },
        {
          "output_type": "stream",
          "text": [
            "0.8235748398220635\n"
          ],
          "name": "stdout"
        },
        {
          "output_type": "stream",
          "text": [
            "\n",
            " 83%|████████▎ | 5/6 [17:35<03:52, 232.84s/it]\u001b[A"
          ],
          "name": "stderr"
        },
        {
          "output_type": "stream",
          "text": [
            "0.8232041400559027\n"
          ],
          "name": "stdout"
        },
        {
          "output_type": "stream",
          "text": [
            "\n",
            "100%|██████████| 6/6 [26:33<00:00, 265.65s/it]"
          ],
          "name": "stderr"
        },
        {
          "output_type": "stream",
          "text": [
            "0.8236638063769065\n"
          ],
          "name": "stdout"
        },
        {
          "output_type": "stream",
          "text": [
            "\n"
          ],
          "name": "stderr"
        }
      ]
    },
    {
      "cell_type": "code",
      "metadata": {
        "id": "j3wpIHKHHnKP"
      },
      "source": [
        ""
      ],
      "execution_count": null,
      "outputs": []
    },
    {
      "cell_type": "code",
      "metadata": {
        "id": "8Q-MDj2mH1WC"
      },
      "source": [
        ""
      ],
      "execution_count": null,
      "outputs": []
    },
    {
      "cell_type": "code",
      "metadata": {
        "id": "5I7dZH9rBD5i"
      },
      "source": [
        ""
      ],
      "execution_count": null,
      "outputs": []
    },
    {
      "cell_type": "code",
      "metadata": {
        "colab": {
          "base_uri": "https://localhost:8080/"
        },
        "id": "Xax3ErNjh3jp",
        "outputId": "65af07c9-4b90-4cbc-ec38-47be43b54462"
      },
      "source": [
        "x_train_vector"
      ],
      "execution_count": null,
      "outputs": [
        {
          "output_type": "execute_result",
          "data": {
            "text/plain": [
              "array([[161,   1,   1, ...,   0,   0,   0],\n",
              "       [  3,  53,   7, ...,   1, 332, 327],\n",
              "       [ 43,   1,   1, ...,   0,   0,   0],\n",
              "       ...,\n",
              "       [  1,   1,   1, ...,   1,   1,   1],\n",
              "       [  1,  56,   1, ...,  41,  51,  52],\n",
              "       [ 43,   1,   1, ...,   0,   0,   0]], dtype=int32)"
            ]
          },
          "metadata": {
            "tags": []
          },
          "execution_count": 57
        }
      ]
    },
    {
      "cell_type": "code",
      "metadata": {
        "colab": {
          "base_uri": "https://localhost:8080/"
        },
        "id": "_AaaT7pVh2Pm",
        "outputId": "01c2c8f0-8792-4e0d-e4ff-fd63a09b3d6c"
      },
      "source": [
        "x_val_vector"
      ],
      "execution_count": null,
      "outputs": [
        {
          "output_type": "execute_result",
          "data": {
            "text/plain": [
              "array([[126,  26,   1, ...,   1,   1,   1],\n",
              "       [146,   1,   1, ...,   0,   0,   0],\n",
              "       [  1,   1,   1, ...,  12,  14,  13],\n",
              "       ...,\n",
              "       [  1,   1,   1, ...,  12,  14,  13],\n",
              "       [ 44,  28,  54, ...,   1,   1,  18],\n",
              "       [ 43,   1,   1, ...,   0,   0,   0]], dtype=int32)"
            ]
          },
          "metadata": {
            "tags": []
          },
          "execution_count": 58
        }
      ]
    },
    {
      "cell_type": "code",
      "metadata": {
        "colab": {
          "base_uri": "https://localhost:8080/"
        },
        "id": "5JqwnNJj-v-c",
        "outputId": "f13b99ff-fc2c-42c4-ae50-4eeccdde04f5"
      },
      "source": [
        "# 모델 자체\n",
        "forest.score(x_val_vector, label_val)"
      ],
      "execution_count": null,
      "outputs": [
        {
          "output_type": "execute_result",
          "data": {
            "text/plain": [
              "0.9978857233469"
            ]
          },
          "metadata": {
            "tags": []
          },
          "execution_count": 54
        }
      ]
    },
    {
      "cell_type": "code",
      "metadata": {
        "colab": {
          "base_uri": "https://localhost:8080/",
          "height": 297
        },
        "id": "gPhxCo-3e5Ih",
        "outputId": "5c5595b4-234e-42c3-cb8c-4f07775b3dc8"
      },
      "source": [
        "#crosstab으로 확인\n",
        "pred=forest.predict(x_val_vector)\n",
        "crosstab = pd.crosstab(label_val, pred, rownames=['real'], colnames=['pred'])\n",
        "crosstab"
      ],
      "execution_count": null,
      "outputs": [
        {
          "output_type": "execute_result",
          "data": {
            "text/html": [
              "<div>\n",
              "<style scoped>\n",
              "    .dataframe tbody tr th:only-of-type {\n",
              "        vertical-align: middle;\n",
              "    }\n",
              "\n",
              "    .dataframe tbody tr th {\n",
              "        vertical-align: top;\n",
              "    }\n",
              "\n",
              "    .dataframe thead th {\n",
              "        text-align: right;\n",
              "    }\n",
              "</style>\n",
              "<table border=\"1\" class=\"dataframe\">\n",
              "  <thead>\n",
              "    <tr style=\"text-align: right;\">\n",
              "      <th>pred</th>\n",
              "      <th>0</th>\n",
              "      <th>1</th>\n",
              "      <th>2</th>\n",
              "      <th>3</th>\n",
              "      <th>4</th>\n",
              "      <th>5</th>\n",
              "    </tr>\n",
              "    <tr>\n",
              "      <th>real</th>\n",
              "      <th></th>\n",
              "      <th></th>\n",
              "      <th></th>\n",
              "      <th></th>\n",
              "      <th></th>\n",
              "      <th></th>\n",
              "    </tr>\n",
              "  </thead>\n",
              "  <tbody>\n",
              "    <tr>\n",
              "      <th>0</th>\n",
              "      <td>66731</td>\n",
              "      <td>51</td>\n",
              "      <td>0</td>\n",
              "      <td>0</td>\n",
              "      <td>0</td>\n",
              "      <td>4</td>\n",
              "    </tr>\n",
              "    <tr>\n",
              "      <th>1</th>\n",
              "      <td>116</td>\n",
              "      <td>26429</td>\n",
              "      <td>0</td>\n",
              "      <td>0</td>\n",
              "      <td>0</td>\n",
              "      <td>2</td>\n",
              "    </tr>\n",
              "    <tr>\n",
              "      <th>2</th>\n",
              "      <td>0</td>\n",
              "      <td>0</td>\n",
              "      <td>2</td>\n",
              "      <td>0</td>\n",
              "      <td>0</td>\n",
              "      <td>0</td>\n",
              "    </tr>\n",
              "    <tr>\n",
              "      <th>3</th>\n",
              "      <td>6</td>\n",
              "      <td>0</td>\n",
              "      <td>0</td>\n",
              "      <td>795</td>\n",
              "      <td>0</td>\n",
              "      <td>0</td>\n",
              "    </tr>\n",
              "    <tr>\n",
              "      <th>4</th>\n",
              "      <td>0</td>\n",
              "      <td>0</td>\n",
              "      <td>0</td>\n",
              "      <td>0</td>\n",
              "      <td>3</td>\n",
              "      <td>0</td>\n",
              "    </tr>\n",
              "    <tr>\n",
              "      <th>5</th>\n",
              "      <td>16</td>\n",
              "      <td>2</td>\n",
              "      <td>0</td>\n",
              "      <td>0</td>\n",
              "      <td>0</td>\n",
              "      <td>435</td>\n",
              "    </tr>\n",
              "    <tr>\n",
              "      <th>6</th>\n",
              "      <td>3</td>\n",
              "      <td>0</td>\n",
              "      <td>0</td>\n",
              "      <td>0</td>\n",
              "      <td>0</td>\n",
              "      <td>0</td>\n",
              "    </tr>\n",
              "  </tbody>\n",
              "</table>\n",
              "</div>"
            ],
            "text/plain": [
              "pred      0      1  2    3  4    5\n",
              "real                              \n",
              "0     66731     51  0    0  0    4\n",
              "1       116  26429  0    0  0    2\n",
              "2         0      0  2    0  0    0\n",
              "3         6      0  0  795  0    0\n",
              "4         0      0  0    0  3    0\n",
              "5        16      2  0    0  0  435\n",
              "6         3      0  0    0  0    0"
            ]
          },
          "metadata": {
            "tags": []
          },
          "execution_count": 55
        }
      ]
    },
    {
      "cell_type": "code",
      "metadata": {
        "colab": {
          "base_uri": "https://localhost:8080/"
        },
        "id": "3Jm1vLQXe5Ih",
        "outputId": "1e06a747-6255-41bc-e8a2-38cf5c7ed942"
      },
      "source": [
        "preds=forest.predict(x_val_vector)\n",
        "probas=forest.predict_proba(x_val_vector)\n",
        "print(preds.shape)\n",
        "print(probas.shape)"
      ],
      "execution_count": null,
      "outputs": [
        {
          "output_type": "stream",
          "text": [
            "(94595,)\n",
            "(94595, 7)\n"
          ],
          "name": "stdout"
        }
      ]
    },
    {
      "cell_type": "code",
      "metadata": {
        "colab": {
          "base_uri": "https://localhost:8080/"
        },
        "id": "C-EzAzgR_AWd",
        "outputId": "47fc4657-6bc0-4cdd-8dcb-65b9de733fea"
      },
      "source": [
        "from collections import Counter\n",
        "Counter(label_val)"
      ],
      "execution_count": null,
      "outputs": [
        {
          "output_type": "execute_result",
          "data": {
            "text/plain": [
              "Counter({0: 66786, 1: 26547, 2: 2, 3: 801, 4: 3, 5: 453, 6: 3})"
            ]
          },
          "metadata": {
            "tags": []
          },
          "execution_count": 57
        }
      ]
    },
    {
      "cell_type": "code",
      "metadata": {
        "id": "7ToRPdKoe5Ii"
      },
      "source": [
        "# 7을 추가\n",
        "# preds[np.where(np.max(probas, axis=1)<0.9)]=7\n",
        "# new_crosstab = pd.crosstab(label_val, preds, rownames=['real'], colnames=['pred'])\n",
        "# new_crosstab"
      ],
      "execution_count": null,
      "outputs": []
    },
    {
      "cell_type": "code",
      "metadata": {
        "id": "kso-5QHUkM6l",
        "colab": {
          "base_uri": "https://localhost:8080/"
        },
        "outputId": "7db2dd91-cd62-42ba-9c48-4e137b605b34"
      },
      "source": [
        "macro_f1(label_val,preds)"
      ],
      "execution_count": null,
      "outputs": [
        {
          "output_type": "execute_result",
          "data": {
            "text/plain": [
              "0.8521005548588904"
            ]
          },
          "metadata": {
            "tags": []
          },
          "execution_count": 63
        }
      ]
    },
    {
      "cell_type": "code",
      "metadata": {
        "id": "MFH1gXVWuPtU"
      },
      "source": [
        ""
      ],
      "execution_count": null,
      "outputs": []
    },
    {
      "cell_type": "code",
      "metadata": {
        "id": "aNsFiIBXXAnM"
      },
      "source": [
        ""
      ],
      "execution_count": null,
      "outputs": []
    },
    {
      "cell_type": "code",
      "metadata": {
        "colab": {
          "base_uri": "https://localhost:8080/",
          "height": 297
        },
        "id": "9TINVN3DXA0n",
        "outputId": "3cfd2a96-c3b9-498f-d03e-1500215b14fc"
      },
      "source": [
        "#crosstab으로 확인\n",
        "pred=lgb.predict(x_val_vector)\n",
        "crosstab = pd.crosstab(label_val, pred, rownames=['real'], colnames=['pred'])\n",
        "crosstab"
      ],
      "execution_count": null,
      "outputs": [
        {
          "output_type": "execute_result",
          "data": {
            "text/html": [
              "<div>\n",
              "<style scoped>\n",
              "    .dataframe tbody tr th:only-of-type {\n",
              "        vertical-align: middle;\n",
              "    }\n",
              "\n",
              "    .dataframe tbody tr th {\n",
              "        vertical-align: top;\n",
              "    }\n",
              "\n",
              "    .dataframe thead th {\n",
              "        text-align: right;\n",
              "    }\n",
              "</style>\n",
              "<table border=\"1\" class=\"dataframe\">\n",
              "  <thead>\n",
              "    <tr style=\"text-align: right;\">\n",
              "      <th>pred</th>\n",
              "      <th>0</th>\n",
              "      <th>1</th>\n",
              "      <th>2</th>\n",
              "      <th>3</th>\n",
              "      <th>4</th>\n",
              "      <th>5</th>\n",
              "      <th>6</th>\n",
              "    </tr>\n",
              "    <tr>\n",
              "      <th>real</th>\n",
              "      <th></th>\n",
              "      <th></th>\n",
              "      <th></th>\n",
              "      <th></th>\n",
              "      <th></th>\n",
              "      <th></th>\n",
              "      <th></th>\n",
              "    </tr>\n",
              "  </thead>\n",
              "  <tbody>\n",
              "    <tr>\n",
              "      <th>0</th>\n",
              "      <td>66781</td>\n",
              "      <td>30</td>\n",
              "      <td>0</td>\n",
              "      <td>1</td>\n",
              "      <td>0</td>\n",
              "      <td>1</td>\n",
              "      <td>0</td>\n",
              "    </tr>\n",
              "    <tr>\n",
              "      <th>1</th>\n",
              "      <td>144</td>\n",
              "      <td>26360</td>\n",
              "      <td>0</td>\n",
              "      <td>0</td>\n",
              "      <td>0</td>\n",
              "      <td>0</td>\n",
              "      <td>0</td>\n",
              "    </tr>\n",
              "    <tr>\n",
              "      <th>2</th>\n",
              "      <td>0</td>\n",
              "      <td>0</td>\n",
              "      <td>2</td>\n",
              "      <td>0</td>\n",
              "      <td>0</td>\n",
              "      <td>0</td>\n",
              "      <td>0</td>\n",
              "    </tr>\n",
              "    <tr>\n",
              "      <th>3</th>\n",
              "      <td>6</td>\n",
              "      <td>1</td>\n",
              "      <td>0</td>\n",
              "      <td>821</td>\n",
              "      <td>0</td>\n",
              "      <td>0</td>\n",
              "      <td>0</td>\n",
              "    </tr>\n",
              "    <tr>\n",
              "      <th>4</th>\n",
              "      <td>0</td>\n",
              "      <td>0</td>\n",
              "      <td>0</td>\n",
              "      <td>0</td>\n",
              "      <td>2</td>\n",
              "      <td>0</td>\n",
              "      <td>0</td>\n",
              "    </tr>\n",
              "    <tr>\n",
              "      <th>5</th>\n",
              "      <td>19</td>\n",
              "      <td>3</td>\n",
              "      <td>0</td>\n",
              "      <td>0</td>\n",
              "      <td>0</td>\n",
              "      <td>422</td>\n",
              "      <td>0</td>\n",
              "    </tr>\n",
              "    <tr>\n",
              "      <th>6</th>\n",
              "      <td>1</td>\n",
              "      <td>0</td>\n",
              "      <td>0</td>\n",
              "      <td>0</td>\n",
              "      <td>0</td>\n",
              "      <td>0</td>\n",
              "      <td>1</td>\n",
              "    </tr>\n",
              "  </tbody>\n",
              "</table>\n",
              "</div>"
            ],
            "text/plain": [
              "pred      0      1  2    3  4    5  6\n",
              "real                                 \n",
              "0     66781     30  0    1  0    1  0\n",
              "1       144  26360  0    0  0    0  0\n",
              "2         0      0  2    0  0    0  0\n",
              "3         6      1  0  821  0    0  0\n",
              "4         0      0  0    0  2    0  0\n",
              "5        19      3  0    0  0  422  0\n",
              "6         1      0  0    0  0    0  1"
            ]
          },
          "metadata": {
            "tags": []
          },
          "execution_count": 97
        }
      ]
    },
    {
      "cell_type": "code",
      "metadata": {
        "colab": {
          "base_uri": "https://localhost:8080/"
        },
        "id": "UzyMZb7HXA0o",
        "outputId": "cddf702e-4862-4e62-e79b-c3b96ec73a63"
      },
      "source": [
        "preds=lgb.predict(x_val_vector)\n",
        "probas=lgb.predict_proba(x_val_vector)\n",
        "print(preds.shape)\n",
        "print(probas.shape)"
      ],
      "execution_count": null,
      "outputs": [
        {
          "output_type": "stream",
          "text": [
            "(94595,)\n",
            "(94595, 7)\n"
          ],
          "name": "stdout"
        }
      ]
    },
    {
      "cell_type": "code",
      "metadata": {
        "colab": {
          "base_uri": "https://localhost:8080/"
        },
        "id": "0GVszZKtXA0o",
        "outputId": "0a355b71-a729-465a-9435-78d0f272f0e1"
      },
      "source": [
        "from collections import Counter\n",
        "Counter(label_val)"
      ],
      "execution_count": null,
      "outputs": [
        {
          "output_type": "execute_result",
          "data": {
            "text/plain": [
              "Counter({0: 66813, 1: 26504, 2: 2, 3: 828, 4: 2, 5: 444, 6: 2})"
            ]
          },
          "metadata": {
            "tags": []
          },
          "execution_count": 99
        }
      ]
    },
    {
      "cell_type": "code",
      "metadata": {
        "colab": {
          "base_uri": "https://localhost:8080/"
        },
        "id": "zyy2LiZ3XA0p",
        "outputId": "01ecc2be-b6d9-4501-9545-2247a791aa90"
      },
      "source": [
        "macro_f1(label_val,preds)"
      ],
      "execution_count": null,
      "outputs": [
        {
          "output_type": "execute_result",
          "data": {
            "text/plain": [
              "0.9472021192302403"
            ]
          },
          "metadata": {
            "tags": []
          },
          "execution_count": 101
        }
      ]
    },
    {
      "cell_type": "code",
      "metadata": {
        "colab": {
          "base_uri": "https://localhost:8080/"
        },
        "id": "pNq0J5afF-uD",
        "outputId": "a889fe30-11d0-42b8-aa4a-7c8b0c5cf998"
      },
      "source": [
        "label_val"
      ],
      "execution_count": null,
      "outputs": [
        {
          "output_type": "execute_result",
          "data": {
            "text/plain": [
              "array([0, 0, 1, ..., 0, 0, 0])"
            ]
          },
          "metadata": {
            "tags": []
          },
          "execution_count": 107
        }
      ]
    },
    {
      "cell_type": "code",
      "metadata": {
        "colab": {
          "base_uri": "https://localhost:8080/"
        },
        "id": "_hjtXSJKzV94",
        "outputId": "7e57f1f6-43a8-4986-c64e-11d4cb163cb4"
      },
      "source": [
        "get_clf_eval(label_val,preds)"
      ],
      "execution_count": null,
      "outputs": [
        {
          "output_type": "stream",
          "text": [
            "오차행렬:\n",
            " [[66781    30     0     1     0     1     0]\n",
            " [  144 26360     0     0     0     0     0]\n",
            " [    0     0     2     0     0     0     0]\n",
            " [    6     1     0   821     0     0     0]\n",
            " [    0     0     0     0     2     0     0]\n",
            " [   19     3     0     0     0   422     0]\n",
            " [    1     0     0     0     0     0     1]]\n",
            "\n",
            "정확도: 0.9978\n",
            "정밀도: 0.9978\n",
            "재현율: 0.9978\n",
            "F1: 0.9978\n"
          ],
          "name": "stdout"
        }
      ]
    },
    {
      "cell_type": "code",
      "metadata": {
        "id": "n00vqAuUX0p-"
      },
      "source": [
        "# 혼동행렬, 정확도, 정밀도, 재현율, F1, AUC 불러오기\n",
        "from sklearn.metrics import confusion_matrix, accuracy_score, precision_score, recall_score\n",
        "from sklearn.metrics import confusion_matrix, f1_score, roc_auc_score\n",
        "\n",
        "def get_clf_eval(y_test, y_pred):\n",
        "    confusion = confusion_matrix(y_test, y_pred)\n",
        "    accuracy = accuracy_score(y_test, y_pred)\n",
        "\n",
        "    precision = precision_score(y_test, y_pred, average='micro')\n",
        "    recall = recall_score(y_test, y_pred, average='micro')\n",
        "\n",
        "    F1 = f1_score(y_test, y_pred, average='micro')\n",
        "\n",
        "    print('오차행렬:\\n', confusion)\n",
        "    print('\\n정확도: {:.4f}'.format(accuracy))\n",
        "    print('정밀도: {:.4f}'.format(precision))\n",
        "    print('재현율: {:.4f}'.format(recall))\n",
        "    print('F1: {:.4f}'.format(F1))"
      ],
      "execution_count": null,
      "outputs": []
    },
    {
      "cell_type": "markdown",
      "metadata": {
        "id": "JEpGJPdKHGvC"
      },
      "source": [
        "# 다시 시작"
      ]
    },
    {
      "cell_type": "code",
      "metadata": {
        "id": "EhvducpOHmuQ"
      },
      "source": [
        "train=pd.read_csv('/content/drive/MyDrive/Colab Notebooks/로그분석/data/train.csv')\n",
        "vali = pd.read_csv('/content/drive/MyDrive/Colab Notebooks/로그분석/data/validation_sample.csv')\n",
        "test=pd.read_csv('/content/drive/MyDrive/Colab Notebooks/로그분석/data/test.csv')\n",
        "submission=pd.read_csv('/content/drive/MyDrive/Colab Notebooks/로그분석/data/sample_submission.csv')"
      ],
      "execution_count": null,
      "outputs": []
    },
    {
      "cell_type": "code",
      "metadata": {
        "id": "OSOqOkgMHmua"
      },
      "source": [
        "# text 전처리로 문자만 남겨 보았다.\n",
        "train['full_log'] = train['full_log'].str.replace(r'[0-9,Jan,Feb,Dec,Sep,Oct,Nov,Mar]', '')\n",
        "test['full_log'] = test['full_log'].str.replace(r'[0-9,Jan,Feb,Dec,Sep,Oct,Nov,Mar]', '')"
      ],
      "execution_count": null,
      "outputs": []
    },
    {
      "cell_type": "code",
      "metadata": {
        "colab": {
          "base_uri": "https://localhost:8080/"
        },
        "id": "1uu56DN5Hmub",
        "outputId": "a989e88b-6e86-412e-a2e6-7e7bb65d8bb7"
      },
      "source": [
        "train['full_log'].value_counts()"
      ],
      "execution_count": null,
      "outputs": [
        {
          "output_type": "execute_result",
          "data": {
            "text/plain": [
              "  :: llhs ki: {\"y\":\"\"\"@imsm\":\"--T::Z\"\"gs\":[\"wig\"\"ss-lli\"]\"id\":\"ll\":\"\"\"\":{\"mssg\":\" Liig is\"\"m\":\"E\"\"sk\":\"E:  Liig is\\     sdRqWihCi (/us/sh/ki/d_mduls/lsish/s/li/s.js::)\\     x (/us/sh/ki/d_mduls/lsish/s/li/i_l.js::)\\     ss._ikCllk (il/ss/x_ik.js::)\"}\"mssg\":\" Liig is\"}                                                                                                                                                                                                                                                                                                                                                                                                        89309\n",
              "  :: llhs ki: {\"y\":\"lg\"\"@imsm\":\"--T::Z\"\"gs\":[\"\"\"sk_mg\"]\"id\":\"mssg\":\"ild  ll f wk: E:  Liig is\"}                                                                                                                                                                                                                                                                                                                                                                                                                                                                                                                                                                                     37155\n",
              "  :: llhs lgssh: [--T::][WAR ][lgssh.uus.lsish] Amd  su i  dd E is u g  . {:ul=>\"h://llhs:/\" :_y=>Lgsh::uus::Elsih::HCli::Pl::HsUhlE :=>\"Elsish Uhl: [h://llhs:/][i::kExi] 연결이 거부됨 (Ci fusd)\"}                                                                                                                                                                                                                                                                                                                                                                                                                                                                                      34004\n",
              "  :: llhs sui[]: [::] ET CA usiius iud  myQL   [Clssifii: Pilly Bd Tffi] [Piiy: ] {TCP} ...: -> ...:                                                                                                                                                                                                                                                                                                                                                                                                                                                                                                                                                                                12227\n",
              "  :: llhs lgssh: [--T::][ERRR][lgssh.uus.lsish] Amd  sd  ulk qus  lsish u  h   liig is i h i l. Phs Elsish is uhl  dw? {:_mssg=>\" Aill is\" :lss=>\"Lgsh::uus::Elsih::HCli::Pl::CiAillE\" :will_y_i_sds=>}                                                                                                                                                                                                                                                                                                                                                                                                                                                                             12105\n",
              "                                                                                                                                                                                                                                                                                                                                                                                                                                                                                                                                                                                                                                                                                    ...  \n",
              "il '[x] HKEY_LCAL_ACHIE\\fw\\isf\\Widws T\\CuVsi\\Widws' hksum hgd.\\nld mdsum ws: 'dfddfd'\\nw mdsum is : 'dfd'\\nld shsum ws: 'fffd'\\nw shsum is : 'ffff'\\n                                                                                                                                                                                                                                                                                                                                                                                                                                                                                                                                   1\n",
              "y=YCALL msg=udi(.:): h= sysll= suss=ys xi= =f = = = ims= id= id= uid= uid= gid= uid= suid= fsuid= gid= sgid= fsgid= y=() ss= mm=\"ss-syshkd\" x=\"//sild/i/ss-syshkd\" suj=ufid_u:ufid_:ufid_:s-s:. ky=\"udi-wzuh-\" y=CW msg=udi(.:):  wd=\"/\" y=PATH msg=udi(.:): im= m=\"/us/si/j\" id= d=fd: md= uid= gid= d=: j=sysm_u:j_:i_:s jy=RAL y=PRCTITLE msg=udi(.:): il=\"//sild/i/ss-syshkd\"                                                                                                                                                                                                                                                                                                       1\n",
              "y=YCALL msg=udi(.:): h= sysll= suss=ys xi= =f =d =f =ffdf ims= id= id= uid= uid= gid= uid= suid= fsuid= gid= sgid= fsgid= y=s ss= mm=\"hdlik\" x=\"/us/si/hdlik\" suj=ufid_u:ufid_:m_si_:s-s:. ky=\"udi-wzuh-x\" y=EXECVE msg=udi(.:): g= =\"hdlik\" =\"-\" =\"/us/s/kls/..-.l.x_/./sis/kfig/x.\" =\"/us/s/kls/..-...l.x_/./sis/kfig/x.\" =\"./sis/kfig/x.\" y=CW msg=udi(.:):  wd=\"/us/s/kls/..-...l.x_\" y=PATH msg=udi(.:): im= m=\"/si/hdlik\" id= d=fd: md= uid= gid= d=: j=sysm_u:j_:i_:s jy=RAL _f= _fi= _f= _f= y=PATH msg=udi(.:): im= m=\"/li/ld-liux-x-.s.\" id= d=fd: md= uid= gid= d=: j=sysm_u:j_:ld_s_:s jy=RAL _f= _fi= _f= _f= y=PRCTITLE msg=udi(.:): il=CEBBECEEECEEBEEBECEEEEECEE        1\n",
              "y=YCALL msg=udi(.:): h= sysll= suss=ys xi= = = = = ims= id= id= uid= uid= gid= uid= suid= fsuid= gid= sgid= fsgid= y=() ss= mm=\"ss-syshkd\" x=\"//sild/i/ss-syshkd\" suj=ufid_u:ufid_:ufid_:s-s:. ky=\"udi-wzuh-\" y=CW msg=udi(.:):  wd=\"/\" y=PATH msg=udi(.:): im= m=\"/i/yh.\" id= d=fd: md= uid= gid= d=: j=sysm_u:j_:i_:s jy=RAL y=PRCTITLE msg=udi(.:): il=\"//sild/i/ss-syshkd\"                                                                                                                                                                                                                                                                                                          1\n",
              "y=YCALL msg=udi(.:): h= sysll= suss=ys xi= =fffff = = = ims= id= id= uid= uid= gid= uid= suid= fsuid= gid= sgid= fsgid= y=() ss= mm=\"sh\" x=\"/us/i/sh\" suj=sysm_u:sysm_:ufid_si_:s ky=\"udi-wzuh-\" y=CW msg=udi(.:):  wd=\"/\" y=PATH msg=udi(.:): im= m=\"//sswih.f\" id= d=fd: md= uid= gid= d=: j=sysm_u:j_:_:s jy=RAL _f= _fi= _f= _f= y=PRCTITLE msg=udi(.:): il=EEECC                                                                                                                                                                                                                                                                                                                   1\n",
              "Name: full_log, Length: 23205, dtype: int64"
            ]
          },
          "metadata": {
            "tags": []
          },
          "execution_count": 125
        }
      ]
    },
    {
      "cell_type": "code",
      "metadata": {
        "id": "ZlX-5vYPHmuc"
      },
      "source": [
        "text_train, text_val, label_train, label_val = train_test_split(train['full_log'], train['level'], test_size=0.2, random_state=42, stratify=train['level'])"
      ],
      "execution_count": null,
      "outputs": []
    },
    {
      "cell_type": "code",
      "metadata": {
        "id": "3ve-_EC8Hmuc"
      },
      "source": [
        "import tensorflow as tf\n",
        "\n",
        "tokenizer = tf.keras.preprocessing.text.Tokenizer()\n",
        "tokenizer.fit_on_texts(text_train)\n",
        "top_k = len(tokenizer.word_index)\n",
        "\n",
        "x_train = tokenizer.texts_to_sequences(text_train)\n",
        "x_val = tokenizer.texts_to_sequences(text_val)\n",
        "\n",
        "max_length=100\n",
        "\n",
        "x_train_vector = tf.keras.preprocessing.sequence.pad_sequences(\n",
        "    x_train, maxlen=max_length, padding='post'\n",
        ")\n",
        "\n",
        "x_val_vector = tf.keras.preprocessing.sequence.pad_sequences(\n",
        "    x_val, maxlen=max_length, padding='post'\n",
        ")"
      ],
      "execution_count": null,
      "outputs": []
    },
    {
      "cell_type": "code",
      "metadata": {
        "colab": {
          "base_uri": "https://localhost:8080/"
        },
        "id": "2WgJ1YpoHmuc",
        "outputId": "b0174abf-6893-4703-ad9e-876acbf3f088"
      },
      "source": [
        "x_train_vector"
      ],
      "execution_count": null,
      "outputs": [
        {
          "output_type": "execute_result",
          "data": {
            "text/plain": [
              "array([[ 11,  12,   1, ...,   0,   0,   0],\n",
              "       [ 11,  32, 130, ...,   0,   0,   0],\n",
              "       [ 11,  32,  28, ...,   0,   0,   0],\n",
              "       ...,\n",
              "       [ 11,  12,   1, ...,   0,   0,   0],\n",
              "       [ 11,  12,   1, ...,   0,   0,   0],\n",
              "       [ 11,  12,   1, ...,   0,   0,   0]], dtype=int32)"
            ]
          },
          "metadata": {
            "tags": []
          },
          "execution_count": 128
        }
      ]
    },
    {
      "cell_type": "markdown",
      "metadata": {
        "id": "ApRcM0ZvKwCO"
      },
      "source": [
        "* https://statkclee.github.io/model/model-python-xgboost-hyper.html"
      ]
    },
    {
      "cell_type": "code",
      "metadata": {
        "colab": {
          "base_uri": "https://localhost:8080/"
        },
        "id": "95TbTl9ZHmud",
        "outputId": "09c6b801-4e33-421b-cdd7-8afe017e3852"
      },
      "source": [
        "# LGBM 모델\n",
        "import xgboost as xgb ## XGBoost 불러오기\n",
        "lgb = xgb.XGBClassifier(n_estimators=1000, random_state=42, n_jobs=-1, max_depth= 3)\n",
        "evals = [(x_val_vector, label_val)]\n",
        "lgb.fit(x_train_vector, label_train, early_stopping_rounds=50, eval_metric='merror', eval_set=evals, verbose=True)"
      ],
      "execution_count": null,
      "outputs": [
        {
          "output_type": "stream",
          "text": [
            "[0]\tvalidation_0-merror:0.002632\n",
            "Will train until validation_0-merror hasn't improved in 50 rounds.\n",
            "[1]\tvalidation_0-merror:0.002611\n",
            "[2]\tvalidation_0-merror:0.002664\n",
            "[3]\tvalidation_0-merror:0.002685\n",
            "[4]\tvalidation_0-merror:0.002675\n",
            "[5]\tvalidation_0-merror:0.002601\n",
            "[6]\tvalidation_0-merror:0.002505\n",
            "[7]\tvalidation_0-merror:0.002474\n",
            "[8]\tvalidation_0-merror:0.002453\n",
            "[9]\tvalidation_0-merror:0.002379\n",
            "[10]\tvalidation_0-merror:0.002379\n",
            "[11]\tvalidation_0-merror:0.002347\n",
            "[12]\tvalidation_0-merror:0.002357\n",
            "[13]\tvalidation_0-merror:0.002357\n",
            "[14]\tvalidation_0-merror:0.002357\n",
            "[15]\tvalidation_0-merror:0.002379\n",
            "[16]\tvalidation_0-merror:0.002379\n",
            "[17]\tvalidation_0-merror:0.00241\n",
            "[18]\tvalidation_0-merror:0.0024\n",
            "[19]\tvalidation_0-merror:0.0024\n",
            "[20]\tvalidation_0-merror:0.002389\n",
            "[21]\tvalidation_0-merror:0.0024\n",
            "[22]\tvalidation_0-merror:0.00241\n",
            "[23]\tvalidation_0-merror:0.002421\n",
            "[24]\tvalidation_0-merror:0.002421\n",
            "[25]\tvalidation_0-merror:0.00241\n",
            "[26]\tvalidation_0-merror:0.002421\n",
            "[27]\tvalidation_0-merror:0.002368\n",
            "[28]\tvalidation_0-merror:0.002347\n",
            "[29]\tvalidation_0-merror:0.002347\n",
            "[30]\tvalidation_0-merror:0.002326\n",
            "[31]\tvalidation_0-merror:0.002336\n",
            "[32]\tvalidation_0-merror:0.002336\n",
            "[33]\tvalidation_0-merror:0.002336\n",
            "[34]\tvalidation_0-merror:0.002283\n",
            "[35]\tvalidation_0-merror:0.002209\n",
            "[36]\tvalidation_0-merror:0.002262\n",
            "[37]\tvalidation_0-merror:0.002283\n",
            "[38]\tvalidation_0-merror:0.002283\n",
            "[39]\tvalidation_0-merror:0.002273\n",
            "[40]\tvalidation_0-merror:0.002262\n",
            "[41]\tvalidation_0-merror:0.002241\n",
            "[42]\tvalidation_0-merror:0.00222\n",
            "[43]\tvalidation_0-merror:0.002252\n",
            "[44]\tvalidation_0-merror:0.002262\n",
            "[45]\tvalidation_0-merror:0.002273\n",
            "[46]\tvalidation_0-merror:0.002283\n",
            "[47]\tvalidation_0-merror:0.002326\n",
            "[48]\tvalidation_0-merror:0.002305\n",
            "[49]\tvalidation_0-merror:0.002294\n",
            "[50]\tvalidation_0-merror:0.002315\n",
            "[51]\tvalidation_0-merror:0.002294\n",
            "[52]\tvalidation_0-merror:0.002283\n",
            "[53]\tvalidation_0-merror:0.002283\n",
            "[54]\tvalidation_0-merror:0.002315\n",
            "[55]\tvalidation_0-merror:0.002305\n",
            "[56]\tvalidation_0-merror:0.002305\n",
            "[57]\tvalidation_0-merror:0.002305\n",
            "[58]\tvalidation_0-merror:0.002305\n",
            "[59]\tvalidation_0-merror:0.002305\n",
            "[60]\tvalidation_0-merror:0.002305\n",
            "[61]\tvalidation_0-merror:0.002305\n",
            "[62]\tvalidation_0-merror:0.002305\n",
            "[63]\tvalidation_0-merror:0.002315\n",
            "[64]\tvalidation_0-merror:0.002315\n",
            "[65]\tvalidation_0-merror:0.002315\n",
            "[66]\tvalidation_0-merror:0.002315\n",
            "[67]\tvalidation_0-merror:0.002315\n",
            "[68]\tvalidation_0-merror:0.002326\n",
            "[69]\tvalidation_0-merror:0.002336\n",
            "[70]\tvalidation_0-merror:0.002336\n",
            "[71]\tvalidation_0-merror:0.002336\n",
            "[72]\tvalidation_0-merror:0.002336\n",
            "[73]\tvalidation_0-merror:0.002347\n",
            "[74]\tvalidation_0-merror:0.002357\n",
            "[75]\tvalidation_0-merror:0.002368\n",
            "[76]\tvalidation_0-merror:0.002357\n",
            "[77]\tvalidation_0-merror:0.002357\n",
            "[78]\tvalidation_0-merror:0.002357\n",
            "[79]\tvalidation_0-merror:0.002357\n",
            "[80]\tvalidation_0-merror:0.002368\n",
            "[81]\tvalidation_0-merror:0.002389\n",
            "[82]\tvalidation_0-merror:0.002357\n",
            "[83]\tvalidation_0-merror:0.002357\n",
            "[84]\tvalidation_0-merror:0.002357\n",
            "[85]\tvalidation_0-merror:0.00241\n",
            "Stopping. Best iteration:\n",
            "[35]\tvalidation_0-merror:0.002209\n",
            "\n"
          ],
          "name": "stdout"
        },
        {
          "output_type": "execute_result",
          "data": {
            "text/plain": [
              "XGBClassifier(base_score=0.5, booster='gbtree', colsample_bylevel=1,\n",
              "              colsample_bynode=1, colsample_bytree=1, gamma=0,\n",
              "              learning_rate=0.1, max_delta_step=0, max_depth=10,\n",
              "              min_child_weight=1, missing=None, n_estimators=500, n_jobs=-1,\n",
              "              nthread=None, objective='multi:softprob', random_state=42,\n",
              "              reg_alpha=0, reg_lambda=1, scale_pos_weight=1, seed=None,\n",
              "              silent=None, subsample=1, verbosity=1)"
            ]
          },
          "metadata": {
            "tags": []
          },
          "execution_count": 135
        }
      ]
    },
    {
      "cell_type": "code",
      "metadata": {
        "colab": {
          "base_uri": "https://localhost:8080/",
          "height": 297
        },
        "id": "4m-IazZ-Hmud",
        "outputId": "09fcd86f-581b-43fc-8a00-a5a76d7e607b"
      },
      "source": [
        "#crosstab으로 확인\n",
        "pred=lgb.predict(x_val_vector)\n",
        "crosstab = pd.crosstab(label_val, pred, rownames=['real'], colnames=['pred'])\n",
        "crosstab"
      ],
      "execution_count": null,
      "outputs": [
        {
          "output_type": "execute_result",
          "data": {
            "text/html": [
              "<div>\n",
              "<style scoped>\n",
              "    .dataframe tbody tr th:only-of-type {\n",
              "        vertical-align: middle;\n",
              "    }\n",
              "\n",
              "    .dataframe tbody tr th {\n",
              "        vertical-align: top;\n",
              "    }\n",
              "\n",
              "    .dataframe thead th {\n",
              "        text-align: right;\n",
              "    }\n",
              "</style>\n",
              "<table border=\"1\" class=\"dataframe\">\n",
              "  <thead>\n",
              "    <tr style=\"text-align: right;\">\n",
              "      <th>pred</th>\n",
              "      <th>0</th>\n",
              "      <th>1</th>\n",
              "      <th>2</th>\n",
              "      <th>3</th>\n",
              "      <th>4</th>\n",
              "      <th>5</th>\n",
              "      <th>6</th>\n",
              "    </tr>\n",
              "    <tr>\n",
              "      <th>real</th>\n",
              "      <th></th>\n",
              "      <th></th>\n",
              "      <th></th>\n",
              "      <th></th>\n",
              "      <th></th>\n",
              "      <th></th>\n",
              "      <th></th>\n",
              "    </tr>\n",
              "  </thead>\n",
              "  <tbody>\n",
              "    <tr>\n",
              "      <th>0</th>\n",
              "      <td>66787</td>\n",
              "      <td>23</td>\n",
              "      <td>0</td>\n",
              "      <td>1</td>\n",
              "      <td>0</td>\n",
              "      <td>2</td>\n",
              "      <td>0</td>\n",
              "    </tr>\n",
              "    <tr>\n",
              "      <th>1</th>\n",
              "      <td>147</td>\n",
              "      <td>26357</td>\n",
              "      <td>0</td>\n",
              "      <td>0</td>\n",
              "      <td>0</td>\n",
              "      <td>0</td>\n",
              "      <td>0</td>\n",
              "    </tr>\n",
              "    <tr>\n",
              "      <th>2</th>\n",
              "      <td>0</td>\n",
              "      <td>0</td>\n",
              "      <td>2</td>\n",
              "      <td>0</td>\n",
              "      <td>0</td>\n",
              "      <td>0</td>\n",
              "      <td>0</td>\n",
              "    </tr>\n",
              "    <tr>\n",
              "      <th>3</th>\n",
              "      <td>5</td>\n",
              "      <td>1</td>\n",
              "      <td>0</td>\n",
              "      <td>818</td>\n",
              "      <td>0</td>\n",
              "      <td>4</td>\n",
              "      <td>0</td>\n",
              "    </tr>\n",
              "    <tr>\n",
              "      <th>4</th>\n",
              "      <td>0</td>\n",
              "      <td>0</td>\n",
              "      <td>0</td>\n",
              "      <td>0</td>\n",
              "      <td>2</td>\n",
              "      <td>0</td>\n",
              "      <td>0</td>\n",
              "    </tr>\n",
              "    <tr>\n",
              "      <th>5</th>\n",
              "      <td>24</td>\n",
              "      <td>1</td>\n",
              "      <td>0</td>\n",
              "      <td>0</td>\n",
              "      <td>0</td>\n",
              "      <td>419</td>\n",
              "      <td>0</td>\n",
              "    </tr>\n",
              "    <tr>\n",
              "      <th>6</th>\n",
              "      <td>0</td>\n",
              "      <td>1</td>\n",
              "      <td>0</td>\n",
              "      <td>0</td>\n",
              "      <td>0</td>\n",
              "      <td>0</td>\n",
              "      <td>1</td>\n",
              "    </tr>\n",
              "  </tbody>\n",
              "</table>\n",
              "</div>"
            ],
            "text/plain": [
              "pred      0      1  2    3  4    5  6\n",
              "real                                 \n",
              "0     66787     23  0    1  0    2  0\n",
              "1       147  26357  0    0  0    0  0\n",
              "2         0      0  2    0  0    0  0\n",
              "3         5      1  0  818  0    4  0\n",
              "4         0      0  0    0  2    0  0\n",
              "5        24      1  0    0  0  419  0\n",
              "6         0      1  0    0  0    0  1"
            ]
          },
          "metadata": {
            "tags": []
          },
          "execution_count": 140
        }
      ]
    },
    {
      "cell_type": "code",
      "metadata": {
        "colab": {
          "base_uri": "https://localhost:8080/"
        },
        "id": "rr9-T12THmud",
        "outputId": "2c5a5266-4385-46ee-fd62-16fdbf23e568"
      },
      "source": [
        "preds=lgb.predict(x_val_vector)\n",
        "probas=lgb.predict_proba(x_val_vector)\n",
        "print(preds.shape)\n",
        "print(probas.shape)"
      ],
      "execution_count": null,
      "outputs": [
        {
          "output_type": "stream",
          "text": [
            "(94595,)\n",
            "(94595, 7)\n"
          ],
          "name": "stdout"
        }
      ]
    },
    {
      "cell_type": "code",
      "metadata": {
        "colab": {
          "base_uri": "https://localhost:8080/"
        },
        "id": "okq0UPMQHmue",
        "outputId": "c7b087d9-5dd4-407c-9651-dcade59a5cb2"
      },
      "source": [
        "macro_f1(label_val,preds)"
      ],
      "execution_count": null,
      "outputs": [
        {
          "output_type": "execute_result",
          "data": {
            "text/plain": [
              "0.9456476510091865"
            ]
          },
          "metadata": {
            "tags": []
          },
          "execution_count": 142
        }
      ]
    },
    {
      "cell_type": "code",
      "metadata": {
        "colab": {
          "base_uri": "https://localhost:8080/"
        },
        "id": "rsuNpeBPHmue",
        "outputId": "445d1f84-21a8-49a0-94c2-ae1e211e361c"
      },
      "source": [
        "get_clf_eval(label_val,preds)"
      ],
      "execution_count": null,
      "outputs": [
        {
          "output_type": "stream",
          "text": [
            "오차행렬:\n",
            " [[66787    23     0     1     0     2     0]\n",
            " [  147 26357     0     0     0     0     0]\n",
            " [    0     0     2     0     0     0     0]\n",
            " [    5     1     0   818     0     4     0]\n",
            " [    0     0     0     0     2     0     0]\n",
            " [   24     1     0     0     0   419     0]\n",
            " [    0     1     0     0     0     0     1]]\n",
            "\n",
            "정확도: 0.9978\n",
            "정밀도: 0.9978\n",
            "재현율: 0.9978\n",
            "F1: 0.9978\n"
          ],
          "name": "stdout"
        }
      ]
    },
    {
      "cell_type": "code",
      "metadata": {
        "id": "alXJQyKqKL87"
      },
      "source": [
        ""
      ],
      "execution_count": null,
      "outputs": []
    },
    {
      "cell_type": "code",
      "metadata": {
        "id": "3FUfmaLWKL6t"
      },
      "source": [
        ""
      ],
      "execution_count": null,
      "outputs": []
    },
    {
      "cell_type": "code",
      "metadata": {
        "id": "VsrOhnyjKL3w"
      },
      "source": [
        ""
      ],
      "execution_count": null,
      "outputs": []
    },
    {
      "cell_type": "code",
      "metadata": {
        "id": "9gkMtuS-KL1A"
      },
      "source": [
        ""
      ],
      "execution_count": null,
      "outputs": []
    },
    {
      "cell_type": "code",
      "metadata": {
        "id": "eUUBuCPR5AfE"
      },
      "source": [
        ""
      ],
      "execution_count": null,
      "outputs": []
    },
    {
      "cell_type": "code",
      "metadata": {
        "id": "hJzmz0JLJGzU"
      },
      "source": [
        ""
      ],
      "execution_count": null,
      "outputs": []
    },
    {
      "cell_type": "code",
      "metadata": {
        "id": "mgAXZ4Wn5m2H"
      },
      "source": [
        "#test 데이터 전처리\n",
        "text_test = test['full_log'].str.replace(r'[0-9,Jan,Feb,Dec,Sep,Oct,Nov,Mar]', '')\n",
        "\n",
        "x_test = tokenizer.texts_to_sequences(text_test)\n",
        "\n",
        "x_test_vector = tf.keras.preprocessing.sequence.pad_sequences(\n",
        "   x_test , maxlen=max_length, padding='post'\n",
        ")"
      ],
      "execution_count": null,
      "outputs": []
    },
    {
      "cell_type": "code",
      "metadata": {
        "id": "kVGFbmDeY7MB"
      },
      "source": [
        "results=lgb.predict(x_test_vector)\n",
        "results_proba=lgb.predict_proba(x_test_vector)\n",
        "# results[np.where(np.max(results_proba, axis=1) < 0.9)] = 7"
      ],
      "execution_count": null,
      "outputs": []
    },
    {
      "cell_type": "code",
      "metadata": {
        "id": "3plwZc36eyPy"
      },
      "source": [
        "# results=forest.predict(x_test_vector)\n",
        "# results_proba=forest.predict_proba(x_test_vector)\n",
        "# # results[np.where(np.max(results_proba, axis=1) < 0.9)] = 7"
      ],
      "execution_count": null,
      "outputs": []
    },
    {
      "cell_type": "code",
      "metadata": {
        "id": "PNc341OqeyNj"
      },
      "source": [
        "submission['level']=results"
      ],
      "execution_count": null,
      "outputs": []
    },
    {
      "cell_type": "code",
      "metadata": {
        "id": "G3T37JsjeyLE",
        "colab": {
          "base_uri": "https://localhost:8080/",
          "height": 419
        },
        "outputId": "0195b3f3-30b8-4609-e3df-16909f6fc2a5"
      },
      "source": [
        "submission"
      ],
      "execution_count": null,
      "outputs": [
        {
          "output_type": "execute_result",
          "data": {
            "text/html": [
              "<div>\n",
              "<style scoped>\n",
              "    .dataframe tbody tr th:only-of-type {\n",
              "        vertical-align: middle;\n",
              "    }\n",
              "\n",
              "    .dataframe tbody tr th {\n",
              "        vertical-align: top;\n",
              "    }\n",
              "\n",
              "    .dataframe thead th {\n",
              "        text-align: right;\n",
              "    }\n",
              "</style>\n",
              "<table border=\"1\" class=\"dataframe\">\n",
              "  <thead>\n",
              "    <tr style=\"text-align: right;\">\n",
              "      <th></th>\n",
              "      <th>id</th>\n",
              "      <th>level</th>\n",
              "    </tr>\n",
              "  </thead>\n",
              "  <tbody>\n",
              "    <tr>\n",
              "      <th>0</th>\n",
              "      <td>1000000</td>\n",
              "      <td>0</td>\n",
              "    </tr>\n",
              "    <tr>\n",
              "      <th>1</th>\n",
              "      <td>1000001</td>\n",
              "      <td>0</td>\n",
              "    </tr>\n",
              "    <tr>\n",
              "      <th>2</th>\n",
              "      <td>1000002</td>\n",
              "      <td>1</td>\n",
              "    </tr>\n",
              "    <tr>\n",
              "      <th>3</th>\n",
              "      <td>1000003</td>\n",
              "      <td>0</td>\n",
              "    </tr>\n",
              "    <tr>\n",
              "      <th>4</th>\n",
              "      <td>1000004</td>\n",
              "      <td>1</td>\n",
              "    </tr>\n",
              "    <tr>\n",
              "      <th>...</th>\n",
              "      <td>...</td>\n",
              "      <td>...</td>\n",
              "    </tr>\n",
              "    <tr>\n",
              "      <th>1418911</th>\n",
              "      <td>2418911</td>\n",
              "      <td>0</td>\n",
              "    </tr>\n",
              "    <tr>\n",
              "      <th>1418912</th>\n",
              "      <td>2418912</td>\n",
              "      <td>0</td>\n",
              "    </tr>\n",
              "    <tr>\n",
              "      <th>1418913</th>\n",
              "      <td>2418913</td>\n",
              "      <td>1</td>\n",
              "    </tr>\n",
              "    <tr>\n",
              "      <th>1418914</th>\n",
              "      <td>2418914</td>\n",
              "      <td>0</td>\n",
              "    </tr>\n",
              "    <tr>\n",
              "      <th>1418915</th>\n",
              "      <td>2418915</td>\n",
              "      <td>0</td>\n",
              "    </tr>\n",
              "  </tbody>\n",
              "</table>\n",
              "<p>1418916 rows × 2 columns</p>\n",
              "</div>"
            ],
            "text/plain": [
              "              id  level\n",
              "0        1000000      0\n",
              "1        1000001      0\n",
              "2        1000002      1\n",
              "3        1000003      0\n",
              "4        1000004      1\n",
              "...          ...    ...\n",
              "1418911  2418911      0\n",
              "1418912  2418912      0\n",
              "1418913  2418913      1\n",
              "1418914  2418914      0\n",
              "1418915  2418915      0\n",
              "\n",
              "[1418916 rows x 2 columns]"
            ]
          },
          "metadata": {
            "tags": []
          },
          "execution_count": 147
        }
      ]
    },
    {
      "cell_type": "code",
      "metadata": {
        "id": "8EpIJTFYkKMx"
      },
      "source": [
        "submission.to_csv('/content/drive/MyDrive/Colab Notebooks/로그분석/result/submission_lgb2_0512.csv', index=False)"
      ],
      "execution_count": null,
      "outputs": []
    },
    {
      "cell_type": "code",
      "metadata": {
        "id": "OCG7-9NWkKJM"
      },
      "source": [
        ""
      ],
      "execution_count": null,
      "outputs": []
    },
    {
      "cell_type": "code",
      "metadata": {
        "id": "4LrowM_VkKG1"
      },
      "source": [
        ""
      ],
      "execution_count": null,
      "outputs": []
    },
    {
      "cell_type": "code",
      "metadata": {
        "id": "87Y4f9L5kKEb"
      },
      "source": [
        ""
      ],
      "execution_count": null,
      "outputs": []
    },
    {
      "cell_type": "code",
      "metadata": {
        "id": "URLWpVD1esYR"
      },
      "source": [
        ""
      ],
      "execution_count": null,
      "outputs": []
    },
    {
      "cell_type": "code",
      "metadata": {
        "id": "b64QQuLZemxw"
      },
      "source": [
        ""
      ],
      "execution_count": null,
      "outputs": []
    },
    {
      "cell_type": "code",
      "metadata": {
        "id": "UFqC27O1eRCJ"
      },
      "source": [
        "text_test = test['full_log'].str.replace(r'[0-9]', '<num>')\n",
        "\n",
        "x_test = tokenizer.texts_to_sequences(text_test)\n",
        "\n",
        "x_test_vector = tf.keras.preprocessing.sequence.pad_sequences(\n",
        "   x_test , maxlen=max_length, padding='post'\n",
        ")"
      ],
      "execution_count": null,
      "outputs": []
    },
    {
      "cell_type": "code",
      "metadata": {
        "id": "AAXaYulceQ7c"
      },
      "source": [
        ""
      ],
      "execution_count": null,
      "outputs": []
    },
    {
      "cell_type": "code",
      "metadata": {
        "id": "yDP4oAbLXUSN"
      },
      "source": [
        "#CountVectorizer로 벡터화\n",
        "# from sklearn.feature_extraction.text import CountVectorizer\n",
        "# vectorizer=CountVectorizer(analyzer=\"word\", max_features=10000)\n",
        "\n",
        "# train_features=vectorizer.fit_transform(train_text)"
      ],
      "execution_count": null,
      "outputs": []
    },
    {
      "cell_type": "code",
      "metadata": {
        "id": "JUSdj2NWXUSN"
      },
      "source": [
        "# train_features"
      ],
      "execution_count": null,
      "outputs": []
    },
    {
      "cell_type": "code",
      "metadata": {
        "id": "5MhN0zWxQ_Tf"
      },
      "source": [
        "# TfidfVectorizer로 백터화\n",
        "\n",
        "# from sklearn.feature_extraction.text import TfidfVectorizer\n",
        "# tfidf_vectorizer = TfidfVectorizer(analyzer=\"word\", max_features=10000) \n",
        "# train_features = tfidf_vectorizer.fit_transform(train_text)"
      ],
      "execution_count": null,
      "outputs": []
    },
    {
      "cell_type": "code",
      "metadata": {
        "id": "oPU1CxLLQ_MD"
      },
      "source": [
        "# train_features"
      ],
      "execution_count": null,
      "outputs": []
    },
    {
      "cell_type": "markdown",
      "metadata": {
        "id": "8XLxfbv6Y6Zx"
      },
      "source": [
        "> 텍스트 전처리\n",
        "* https://codetorial.net/tensorflow/natural_language_processing_in_tensorflow_01.html"
      ]
    },
    {
      "cell_type": "code",
      "metadata": {
        "id": "6R2XebeoXrjR"
      },
      "source": [
        "# 토큰화랑 시퀸스 변환\n",
        "import tensorflow as tf\n",
        "# from tensorflow import keras\n",
        "# from tensorflow.keras.preprocessing.text import Tokenizer\n",
        "# from tensorflow.keras.preprocessing.sequence import pad_sequences\n",
        "\n",
        "\n",
        "# tokenizer = Tokenizer(num_words = 1000, oov_token=\"<OOV>\")\n",
        "# tokenizer.fit_on_texts(train_text)\n",
        "# word_index = tokenizer.word_index\n",
        "\n",
        "# train_features = tokenizer.texts_to_sequences(train_text)\n",
        "# train_features = pad_sequences(train_features)\n",
        "\n",
        "# print(word_index)\n",
        "# print(train_features)"
      ],
      "execution_count": null,
      "outputs": []
    },
    {
      "cell_type": "code",
      "metadata": {
        "id": "9KRXWSptXrci"
      },
      "source": [
        "# train_features"
      ],
      "execution_count": null,
      "outputs": []
    },
    {
      "cell_type": "code",
      "metadata": {
        "id": "l0RhRe23dwaE"
      },
      "source": [
        "tokenizer = tf.keras.preprocessing.text.Tokenizer()\n",
        "tokenizer.fit_on_texts(text_train)\n",
        "top_k = len(tokenizer.word_index)\n",
        "\n",
        "x_train = tokenizer.texts_to_sequences(text_train)\n",
        "x_val = tokenizer.texts_to_sequences(text_val)\n",
        "\n",
        "max_length=100\n",
        "\n",
        "x_train_vector = tf.keras.preprocessing.sequence.pad_sequences(\n",
        "    x_train, maxlen=max_length, padding='post'\n",
        ")\n",
        "\n",
        "x_val_vector = tf.keras.preprocessing.sequence.pad_sequences(\n",
        "    x_val, maxlen=max_length, padding='post'\n",
        ")"
      ],
      "execution_count": null,
      "outputs": []
    },
    {
      "cell_type": "code",
      "metadata": {
        "id": "HOFVLWeSYRrb"
      },
      "source": [
        ""
      ],
      "execution_count": null,
      "outputs": []
    },
    {
      "cell_type": "markdown",
      "metadata": {
        "id": "PFMz-Nb6XUSN"
      },
      "source": [
        "# **4. 모델링**"
      ]
    },
    {
      "cell_type": "code",
      "metadata": {
        "id": "fi01GbpkXUSO"
      },
      "source": [
        "#훈련 데이터 셋과 검증 데이터 셋으로 분리\n",
        "TEST_SIZE=0.2\n",
        "RANDOM_SEED=42\n",
        "\n",
        "train_x, eval_x, train_y, eval_y=train_test_split(train_features, train_level, test_size=TEST_SIZE, random_state=RANDOM_SEED)"
      ],
      "execution_count": null,
      "outputs": []
    },
    {
      "cell_type": "code",
      "metadata": {
        "id": "QiCabSjgXUSO"
      },
      "source": [
        "#랜덤포레스트로 모델링\n",
        "from sklearn.ensemble import RandomForestClassifier\n",
        "\n",
        "forest=RandomForestClassifier(n_estimators=10000)\n",
        "\n",
        "forest.fit(train_x, train_y)"
      ],
      "execution_count": null,
      "outputs": []
    },
    {
      "cell_type": "code",
      "metadata": {
        "id": "bapCFzJHXUSO"
      },
      "source": [
        "#모델 검증\n",
        "forest.score(eval_x, eval_y)"
      ],
      "execution_count": null,
      "outputs": []
    },
    {
      "cell_type": "code",
      "metadata": {
        "id": "0eaGQCA0XUSO"
      },
      "source": [
        "#crosstab으로 확인\n",
        "pred=forest.predict(eval_x)\n",
        "crosstab = pd.crosstab(eval_y, pred, rownames=['real'], colnames=['pred'])\n",
        "crosstab"
      ],
      "execution_count": null,
      "outputs": []
    },
    {
      "cell_type": "markdown",
      "metadata": {
        "id": "qYv5ReakXUSP"
      },
      "source": [
        "+ 새로운 위험요소에 대한 가정 추가\n",
        "+ => 예측치의 예측 확률이 0.90이하인 경우, 즉 확신이 없을 경우 이상치로 판단 "
      ]
    },
    {
      "cell_type": "code",
      "metadata": {
        "id": "xXLvl6xkXUSP"
      },
      "source": [
        "preds=forest.predict(eval_x)\n",
        "probas=forest.predict_proba(eval_x)\n",
        "print(preds.shape)\n",
        "print(probas.shape)"
      ],
      "execution_count": null,
      "outputs": []
    },
    {
      "cell_type": "code",
      "metadata": {
        "id": "CR8jXHd4XUSP"
      },
      "source": [
        "preds[np.where(np.max(probas, axis=1)<0.9)]=7\n",
        "new_crosstab = pd.crosstab(eval_y, preds, rownames=['real'], colnames=['pred'])\n",
        "new_crosstab"
      ],
      "execution_count": null,
      "outputs": []
    },
    {
      "cell_type": "markdown",
      "metadata": {
        "id": "w2YaCbyTXUSQ"
      },
      "source": [
        "# **5. 예측**"
      ]
    },
    {
      "cell_type": "code",
      "metadata": {
        "id": "Zq4pcYKZXUSQ"
      },
      "source": [
        "#test 데이터 전처리\n",
        "test_text=list(test['full_log'])\n",
        "ids=list(test['id'])"
      ],
      "execution_count": null,
      "outputs": []
    },
    {
      "cell_type": "code",
      "metadata": {
        "id": "a-CltQLZXUSQ"
      },
      "source": [
        "#test 데이터 vectorizer\n",
        "#주의: fit_transform의 경우 data leakage에 위반될 수 있습니다\n",
        "# test_features=vectorizer.transform(test_text)"
      ],
      "execution_count": null,
      "outputs": []
    },
    {
      "cell_type": "code",
      "metadata": {
        "id": "xzFSoA0qYYlc"
      },
      "source": [
        "# 토큰화랑 시퀸스 설정\n",
        "test_features = tokenizer.texts_to_sequences(test_text)\n",
        "test_features = pad_sequences(test_features)\n",
        "print(test_features)"
      ],
      "execution_count": null,
      "outputs": []
    },
    {
      "cell_type": "code",
      "metadata": {
        "id": "q_arruOJXUSQ"
      },
      "source": [
        "results=forest.predict(test_features)\n",
        "results_proba=forest.predict_proba(test_features)\n",
        "results[np.where(np.max(results_proba, axis=1) < 0.9)] = 7"
      ],
      "execution_count": null,
      "outputs": []
    },
    {
      "cell_type": "code",
      "metadata": {
        "id": "-RSdfCVqXUSR"
      },
      "source": [
        "submission['level']=results"
      ],
      "execution_count": null,
      "outputs": []
    },
    {
      "cell_type": "code",
      "metadata": {
        "id": "z2qcXRfaXUSR",
        "colab": {
          "base_uri": "https://localhost:8080/",
          "height": 419
        },
        "outputId": "a88bf52a-c792-4984-e2bd-df22668418af"
      },
      "source": [
        "submission"
      ],
      "execution_count": null,
      "outputs": [
        {
          "output_type": "execute_result",
          "data": {
            "text/html": [
              "<div>\n",
              "<style scoped>\n",
              "    .dataframe tbody tr th:only-of-type {\n",
              "        vertical-align: middle;\n",
              "    }\n",
              "\n",
              "    .dataframe tbody tr th {\n",
              "        vertical-align: top;\n",
              "    }\n",
              "\n",
              "    .dataframe thead th {\n",
              "        text-align: right;\n",
              "    }\n",
              "</style>\n",
              "<table border=\"1\" class=\"dataframe\">\n",
              "  <thead>\n",
              "    <tr style=\"text-align: right;\">\n",
              "      <th></th>\n",
              "      <th>id</th>\n",
              "      <th>level</th>\n",
              "    </tr>\n",
              "  </thead>\n",
              "  <tbody>\n",
              "    <tr>\n",
              "      <th>0</th>\n",
              "      <td>1000000</td>\n",
              "      <td>7</td>\n",
              "    </tr>\n",
              "    <tr>\n",
              "      <th>1</th>\n",
              "      <td>1000001</td>\n",
              "      <td>0</td>\n",
              "    </tr>\n",
              "    <tr>\n",
              "      <th>2</th>\n",
              "      <td>1000002</td>\n",
              "      <td>1</td>\n",
              "    </tr>\n",
              "    <tr>\n",
              "      <th>3</th>\n",
              "      <td>1000003</td>\n",
              "      <td>0</td>\n",
              "    </tr>\n",
              "    <tr>\n",
              "      <th>4</th>\n",
              "      <td>1000004</td>\n",
              "      <td>1</td>\n",
              "    </tr>\n",
              "    <tr>\n",
              "      <th>...</th>\n",
              "      <td>...</td>\n",
              "      <td>...</td>\n",
              "    </tr>\n",
              "    <tr>\n",
              "      <th>1418911</th>\n",
              "      <td>2418911</td>\n",
              "      <td>0</td>\n",
              "    </tr>\n",
              "    <tr>\n",
              "      <th>1418912</th>\n",
              "      <td>2418912</td>\n",
              "      <td>7</td>\n",
              "    </tr>\n",
              "    <tr>\n",
              "      <th>1418913</th>\n",
              "      <td>2418913</td>\n",
              "      <td>1</td>\n",
              "    </tr>\n",
              "    <tr>\n",
              "      <th>1418914</th>\n",
              "      <td>2418914</td>\n",
              "      <td>0</td>\n",
              "    </tr>\n",
              "    <tr>\n",
              "      <th>1418915</th>\n",
              "      <td>2418915</td>\n",
              "      <td>0</td>\n",
              "    </tr>\n",
              "  </tbody>\n",
              "</table>\n",
              "<p>1418916 rows × 2 columns</p>\n",
              "</div>"
            ],
            "text/plain": [
              "              id  level\n",
              "0        1000000      7\n",
              "1        1000001      0\n",
              "2        1000002      1\n",
              "3        1000003      0\n",
              "4        1000004      1\n",
              "...          ...    ...\n",
              "1418911  2418911      0\n",
              "1418912  2418912      7\n",
              "1418913  2418913      1\n",
              "1418914  2418914      0\n",
              "1418915  2418915      0\n",
              "\n",
              "[1418916 rows x 2 columns]"
            ]
          },
          "metadata": {
            "tags": []
          },
          "execution_count": 29
        }
      ]
    },
    {
      "cell_type": "code",
      "metadata": {
        "id": "BvC-QxfBXUSR"
      },
      "source": [
        "submission.to_csv('/content/drive/MyDrive/Colab Notebooks/로그분석/result/submission_0511.csv', index=False)"
      ],
      "execution_count": null,
      "outputs": []
    },
    {
      "cell_type": "code",
      "metadata": {
        "id": "nnMYYkUjTew8"
      },
      "source": [
        ""
      ],
      "execution_count": null,
      "outputs": []
    },
    {
      "cell_type": "code",
      "metadata": {
        "id": "qdb9A7nSXUSR"
      },
      "source": [
        ""
      ],
      "execution_count": null,
      "outputs": []
    }
  ]
}